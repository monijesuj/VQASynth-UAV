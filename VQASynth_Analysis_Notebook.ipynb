{
 "cells": [
  {
   "cell_type": "markdown",
   "id": "eefa8fb4",
   "metadata": {},
   "source": [
    "# VQASynth Dataset Analysis & Next Steps Guide 🎯\n",
    "\n",
    "This comprehensive notebook guides you through analyzing your generated spatial reasoning dataset and implementing next steps for expanding, training, and deploying VQASynth models.\n",
    "\n",
    "## What We'll Cover:\n",
    "1. 🔧 **Setup and Environment** - Configure tools and load your dataset\n",
    "2. 🔬 **Dataset Analysis** - Visualize point clouds, depth maps, and spatial patterns\n",
    "3. 📚 **Dataset Expansion** - Scale your pipeline to more images and domains\n",
    "4. 🧠 **Model Training** - Fine-tune spatial VLMs with your data\n",
    "5. 🎮 **Interactive Demo** - Build Gradio apps for testing\n",
    "6. 📤 **Publishing** - Share your work with the community\n",
    "\n",
    "---"
   ]
  },
  {
   "cell_type": "markdown",
   "id": "34c50e65",
   "metadata": {},
   "source": [
    "## 1. 🔧 Setup and Environment Configuration"
   ]
  },
  {
   "cell_type": "code",
   "execution_count": 1,
   "id": "fd59e1c1",
   "metadata": {},
   "outputs": [
    {
     "name": "stdout",
     "output_type": "stream",
     "text": [
      "Jupyter environment detected. Enabling Open3D WebVisualizer.\n",
      "[Open3D INFO] WebRTC GUI backend enabled.\n",
      "[Open3D INFO] WebRTCWindowSystem: HTTP handshake server disabled.\n",
      "✅ Open3D available for point cloud visualization\n",
      "🔧 Environment Check:\n",
      "Python path: /home/isr-lab3/James/VQASynth-UAV\n",
      "Dataset path exists: True\n",
      "Point clouds exist: True\n",
      "✅ Configuration loaded successfully\n",
      "✅ Open3D available for point cloud visualization\n",
      "🔧 Environment Check:\n",
      "Python path: /home/isr-lab3/James/VQASynth-UAV\n",
      "Dataset path exists: True\n",
      "Point clouds exist: True\n",
      "✅ Configuration loaded successfully\n"
     ]
    }
   ],
   "source": [
    "# Import essential libraries for VQASynth analysis\n",
    "import os\n",
    "import json\n",
    "import yaml\n",
    "import numpy as np\n",
    "import matplotlib.pyplot as plt\n",
    "import plotly.express as px\n",
    "import plotly.graph_objects as go\n",
    "from plotly.subplots import make_subplots\n",
    "from datasets import load_from_disk\n",
    "from PIL import Image\n",
    "import pandas as pd\n",
    "\n",
    "# Point cloud processing\n",
    "try:\n",
    "    import open3d as o3d\n",
    "    print(\"✅ Open3D available for point cloud visualization\")\n",
    "except ImportError:\n",
    "    print(\"⚠️  Open3D not installed. Run: pip install open3d\")\n",
    "\n",
    "# Check environment\n",
    "print(\"🔧 Environment Check:\")\n",
    "print(f\"Python path: {os.getcwd()}\")\n",
    "print(f\"Dataset path exists: {os.path.exists('/home/isr-lab3/James/vqasynth_output/vqasynth_sample')}\")\n",
    "print(f\"Point clouds exist: {os.path.exists('/home/isr-lab3/James/vqasynth_output/pointclouds')}\")\n",
    "\n",
    "# Load configuration\n",
    "config_path = \"config/config.yaml\"\n",
    "if os.path.exists(config_path):\n",
    "    with open(config_path, 'r') as f:\n",
    "        config = yaml.safe_load(f)\n",
    "    print(\"✅ Configuration loaded successfully\")\n",
    "else:\n",
    "    print(\"⚠️  Config file not found\")"
   ]
  },
  {
   "cell_type": "code",
   "execution_count": 2,
   "id": "8cebc1f4",
   "metadata": {},
   "outputs": [
    {
     "name": "stdout",
     "output_type": "stream",
     "text": [
      "📊 Dataset Overview:\n",
      "Total examples: 5\n",
      "Features: ['image', 'embedding', 'tag', 'masks', 'bboxes_or_points', 'captions', 'pointclouds', 'is_canonicalized', 'depth_map', 'focallength', 'prompts', 'truncated_prompts', 'messages']\n",
      "\n",
      "🎯 Content Statistics:\n",
      "• Total objects detected: 41\n",
      "• Total Q&A pairs: 25\n",
      "• Average objects per image: 8.2\n",
      "• Average conversations per image: 5.0\n",
      "\n",
      "🎯 Content Statistics:\n",
      "• Total objects detected: 41\n",
      "• Total Q&A pairs: 25\n",
      "• Average objects per image: 8.2\n",
      "• Average conversations per image: 5.0\n",
      "\n",
      "🔍 Example Structure:\n",
      "• image: Image (950, 534)\n",
      "• embedding: 1 items\n",
      "• tag: str\n",
      "• masks: 9 items\n",
      "• bboxes_or_points: 9 items\n",
      "• captions: 9 items\n",
      "• pointclouds: 9 items\n",
      "• is_canonicalized: bool\n",
      "• depth_map: 294 items\n",
      "• focallength: float\n",
      "• prompts: 82 items\n",
      "• truncated_prompts: 5 items\n",
      "• messages: 10 items\n",
      "\n",
      "🔍 Example Structure:\n",
      "• image: Image (950, 534)\n",
      "• embedding: 1 items\n",
      "• tag: str\n",
      "• masks: 9 items\n",
      "• bboxes_or_points: 9 items\n",
      "• captions: 9 items\n",
      "• pointclouds: 9 items\n",
      "• is_canonicalized: bool\n",
      "• depth_map: 294 items\n",
      "• focallength: float\n",
      "• prompts: 82 items\n",
      "• truncated_prompts: 5 items\n",
      "• messages: 10 items\n"
     ]
    }
   ],
   "source": [
    "# Load your VQASynth dataset\n",
    "dataset_path = \"/home/isr-lab3/James/vqasynth_output/vqasynth_sample\"\n",
    "dataset = load_from_disk(dataset_path)\n",
    "\n",
    "print(\"📊 Dataset Overview:\")\n",
    "print(f\"Total examples: {len(dataset['train'])}\")\n",
    "print(f\"Features: {list(dataset['train'].features.keys())}\")\n",
    "\n",
    "# Quick statistics\n",
    "total_objects = sum(len(example['captions']) for example in dataset['train'])\n",
    "total_conversations = sum(len(example['messages']) // 2 for example in dataset['train'])\n",
    "\n",
    "print(f\"\\n🎯 Content Statistics:\")\n",
    "print(f\"• Total objects detected: {total_objects}\")\n",
    "print(f\"• Total Q&A pairs: {total_conversations}\")\n",
    "print(f\"• Average objects per image: {total_objects / len(dataset['train']):.1f}\")\n",
    "print(f\"• Average conversations per image: {total_conversations / len(dataset['train']):.1f}\")\n",
    "\n",
    "# Show dataset structure for first example\n",
    "example = dataset['train'][0]\n",
    "print(f\"\\n🔍 Example Structure:\")\n",
    "for key, value in example.items():\n",
    "    if isinstance(value, list):\n",
    "        print(f\"• {key}: {len(value)} items\")\n",
    "    elif hasattr(value, 'size'):  # PIL Image\n",
    "        print(f\"• {key}: Image {value.size}\")\n",
    "    else:\n",
    "        print(f\"• {key}: {type(value).__name__}\")"
   ]
  },
  {
   "cell_type": "markdown",
   "id": "1dc97af7",
   "metadata": {},
   "source": [
    "## 2. 🔬 Dataset Analysis and Visualization"
   ]
  },
  {
   "cell_type": "code",
   "execution_count": 3,
   "id": "04fb907b",
   "metadata": {},
   "outputs": [
    {
     "ename": "ValueError",
     "evalue": "cannot reshape array of size 152292 into shape (534,950)",
     "output_type": "error",
     "traceback": [
      "\u001b[0;31m---------------------------------------------------------------------------\u001b[0m",
      "\u001b[0;31mValueError\u001b[0m                                Traceback (most recent call last)",
      "Cell \u001b[0;32mIn[3], line 49\u001b[0m\n\u001b[1;32m     46\u001b[0m             \u001b[38;5;28mprint\u001b[39m(\u001b[38;5;124mf\u001b[39m\u001b[38;5;124m\"\u001b[39m\u001b[38;5;124mA\u001b[39m\u001b[38;5;132;01m{\u001b[39;00mi\u001b[38;5;241m/\u001b[39m\u001b[38;5;241m/\u001b[39m\u001b[38;5;241m2\u001b[39m\u001b[38;5;250m \u001b[39m\u001b[38;5;241m+\u001b[39m\u001b[38;5;250m \u001b[39m\u001b[38;5;241m1\u001b[39m\u001b[38;5;132;01m}\u001b[39;00m\u001b[38;5;124m: \u001b[39m\u001b[38;5;132;01m{\u001b[39;00massistant_text\u001b[38;5;132;01m}\u001b[39;00m\u001b[38;5;130;01m\\n\u001b[39;00m\u001b[38;5;124m\"\u001b[39m)\n\u001b[1;32m     48\u001b[0m \u001b[38;5;66;03m# Visualize first example\u001b[39;00m\n\u001b[0;32m---> 49\u001b[0m \u001b[43mvisualize_example\u001b[49m\u001b[43m(\u001b[49m\u001b[38;5;241;43m0\u001b[39;49m\u001b[43m)\u001b[49m\n",
      "Cell \u001b[0;32mIn[3], line 14\u001b[0m, in \u001b[0;36mvisualize_example\u001b[0;34m(idx)\u001b[0m\n\u001b[1;32m     12\u001b[0m \u001b[38;5;66;03m# Display depth map if available\u001b[39;00m\n\u001b[1;32m     13\u001b[0m \u001b[38;5;28;01mif\u001b[39;00m \u001b[38;5;28mlen\u001b[39m(example[\u001b[38;5;124m'\u001b[39m\u001b[38;5;124mdepth_map\u001b[39m\u001b[38;5;124m'\u001b[39m]) \u001b[38;5;241m>\u001b[39m \u001b[38;5;241m0\u001b[39m:\n\u001b[0;32m---> 14\u001b[0m     depth_array \u001b[38;5;241m=\u001b[39m \u001b[43mnp\u001b[49m\u001b[38;5;241;43m.\u001b[39;49m\u001b[43marray\u001b[49m\u001b[43m(\u001b[49m\u001b[43mexample\u001b[49m\u001b[43m[\u001b[49m\u001b[38;5;124;43m'\u001b[39;49m\u001b[38;5;124;43mdepth_map\u001b[39;49m\u001b[38;5;124;43m'\u001b[39;49m\u001b[43m]\u001b[49m\u001b[43m)\u001b[49m\u001b[38;5;241;43m.\u001b[39;49m\u001b[43mreshape\u001b[49m\u001b[43m(\u001b[49m\u001b[43mexample\u001b[49m\u001b[43m[\u001b[49m\u001b[38;5;124;43m'\u001b[39;49m\u001b[38;5;124;43mimage\u001b[39;49m\u001b[38;5;124;43m'\u001b[39;49m\u001b[43m]\u001b[49m\u001b[38;5;241;43m.\u001b[39;49m\u001b[43msize\u001b[49m\u001b[43m[\u001b[49m\u001b[38;5;241;43m1\u001b[39;49m\u001b[43m]\u001b[49m\u001b[43m,\u001b[49m\u001b[43m \u001b[49m\u001b[43mexample\u001b[49m\u001b[43m[\u001b[49m\u001b[38;5;124;43m'\u001b[39;49m\u001b[38;5;124;43mimage\u001b[39;49m\u001b[38;5;124;43m'\u001b[39;49m\u001b[43m]\u001b[49m\u001b[38;5;241;43m.\u001b[39;49m\u001b[43msize\u001b[49m\u001b[43m[\u001b[49m\u001b[38;5;241;43m0\u001b[39;49m\u001b[43m]\u001b[49m\u001b[43m)\u001b[49m\n\u001b[1;32m     15\u001b[0m     im \u001b[38;5;241m=\u001b[39m axes[\u001b[38;5;241m1\u001b[39m]\u001b[38;5;241m.\u001b[39mimshow(depth_array, cmap\u001b[38;5;241m=\u001b[39m\u001b[38;5;124m'\u001b[39m\u001b[38;5;124mviridis\u001b[39m\u001b[38;5;124m'\u001b[39m)\n\u001b[1;32m     16\u001b[0m     axes[\u001b[38;5;241m1\u001b[39m]\u001b[38;5;241m.\u001b[39mset_title(\u001b[38;5;124mf\u001b[39m\u001b[38;5;124m\"\u001b[39m\u001b[38;5;124mDepth Map (Focal: \u001b[39m\u001b[38;5;132;01m{\u001b[39;00mexample[\u001b[38;5;124m'\u001b[39m\u001b[38;5;124mfocallength\u001b[39m\u001b[38;5;124m'\u001b[39m]\u001b[38;5;132;01m:\u001b[39;00m\u001b[38;5;124m.1f\u001b[39m\u001b[38;5;132;01m}\u001b[39;00m\u001b[38;5;124m)\u001b[39m\u001b[38;5;124m\"\u001b[39m)\n",
      "\u001b[0;31mValueError\u001b[0m: cannot reshape array of size 152292 into shape (534,950)"
     ]
    },
    {
     "data": {
      "image/png": "[encoded data removed]",
      "text/plain": [
       "<Figure size 1500x600 with 2 Axes>"
      ]
     },
     "metadata": {},
     "output_type": "display_data"
    }
   ],
   "source": [
    "# Visualize sample images with their spatial VQA\n",
    "def visualize_example(idx=0):\n",
    "    example = dataset['train'][idx]\n",
    "    \n",
    "    fig, axes = plt.subplots(1, 2, figsize=(15, 6))\n",
    "    \n",
    "    # Display image\n",
    "    axes[0].imshow(example['image'])\n",
    "    axes[0].set_title(f\"Image {idx+1} - Tag: {example['tag']}\")\n",
    "    axes[0].axis('off')\n",
    "    \n",
    "    # Display depth map if available\n",
    "    if len(example['depth_map']) > 0:\n",
    "        depth_array = np.array(example['depth_map']).reshape(example['image'].size[1], example['image'].size[0])\n",
    "        im = axes[1].imshow(depth_array, cmap='viridis')\n",
    "        axes[1].set_title(f\"Depth Map (Focal: {example['focallength']:.1f})\")\n",
    "        axes[1].axis('off')\n",
    "        plt.colorbar(im, ax=axes[1], label='Depth (meters)')\n",
    "    \n",
    "    plt.tight_layout()\n",
    "    plt.show()\n",
    "    \n",
    "    # Show some spatial conversations\n",
    "    print(f\"\\n🗣️  Spatial VQA Conversations for Image {idx+1}:\")\n",
    "    messages = example['messages']\n",
    "    for i in range(0, min(6, len(messages)), 2):\n",
    "        if i + 1 < len(messages):\n",
    "            user_msg = messages[i]\n",
    "            assistant_msg = messages[i + 1]\n",
    "            \n",
    "            # Extract text from user message\n",
    "            user_text = \"\"\n",
    "            if isinstance(user_msg['content'], list):\n",
    "                for content in user_msg['content']:\n",
    "                    if content['type'] == 'text':\n",
    "                        user_text = content['text']\n",
    "                        break\n",
    "            else:\n",
    "                user_text = user_msg['content']\n",
    "                \n",
    "            assistant_text = assistant_msg['content']\n",
    "            if isinstance(assistant_text, list):\n",
    "                assistant_text = assistant_text[0]['text']\n",
    "            \n",
    "            print(f\"Q{i//2 + 1}: {user_text}\")\n",
    "            print(f\"A{i//2 + 1}: {assistant_text}\\n\")\n",
    "\n",
    "# Visualize first example\n",
    "visualize_example(0)"
   ]
  },
  {
   "cell_type": "code",
   "execution_count": 4,
   "id": "6f5cb21a",
   "metadata": {},
   "outputs": [
    {
     "name": "stdout",
     "output_type": "stream",
     "text": [
      "🔮 Point Cloud Analysis for Image 1\n",
      "Objects detected: 9\n",
      "\n",
      "Object 1: group of men in safety vests\n",
      "Point cloud: /home/isr-lab3/James/vqasynth_output/pointclouds/pointcloud_0_0.pcd\n",
      "Points: 815\n",
      "X range: -0.65 to 0.20\n",
      "Y range: 0.06 to 0.25\n",
      "Z range: 0.30 to 1.10\n"
     ]
    },
    {
     "data": {
      "application/vnd.plotly.v1+json": {
       "config": {
        "plotlyServerURL": "https://plot.ly"
       },
       "data": [
        {
         "marker": {
          "opacity": 0.6,
          "size": 2
         },
         "mode": "markers",
         "name": "Object 1",
         "type": "scatter3d",
         "x": {
          "bdata": "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",
          "dtype": "f8"
         },
         "y": {
          "bdata": "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",
          "dtype": "f8"
         },
         "z": {
          "bdata": "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",
          "dtype": "f8"
         }
        }
       ],
       "layout": {
        "height": 500,
        "scene": {
         "xaxis": {
          "title": {
           "text": "X (meters)"
          }
         },
         "yaxis": {
          "title": {
           "text": "Y (meters)"
          }
         },
         "zaxis": {
          "title": {
           "text": "Z (meters)"
          }
         }
        },
        "template": {
         "data": {
          "bar": [
           {
            "error_x": {
             "color": "#2a3f5f"
            },
            "error_y": {
             "color": "#2a3f5f"
            },
            "marker": {
             "line": {
              "color": "#E5ECF6",
              "width": 0.5
             },
             "pattern": {
              "fillmode": "overlay",
              "size": 10,
              "solidity": 0.2
             }
            },
            "type": "bar"
           }
          ],
          "barpolar": [
           {
            "marker": {
             "line": {
              "color": "#E5ECF6",
              "width": 0.5
             },
             "pattern": {
              "fillmode": "overlay",
              "size": 10,
              "solidity": 0.2
             }
            },
            "type": "barpolar"
           }
          ],
          "carpet": [
           {
            "aaxis": {
             "endlinecolor": "#2a3f5f",
             "gridcolor": "white",
             "linecolor": "white",
             "minorgridcolor": "white",
             "startlinecolor": "#2a3f5f"
            },
            "baxis": {
             "endlinecolor": "#2a3f5f",
             "gridcolor": "white",
             "linecolor": "white",
             "minorgridcolor": "white",
             "startlinecolor": "#2a3f5f"
            },
            "type": "carpet"
           }
          ],
          "choropleth": [
           {
            "colorbar": {
             "outlinewidth": 0,
             "ticks": ""
            },
            "type": "choropleth"
           }
          ],
          "contour": [
           {
            "colorbar": {
             "outlinewidth": 0,
             "ticks": ""
            },
            "colorscale": [
             [
              0,
              "#0d0887"
             ],
             [
              0.1111111111111111,
              "#46039f"
             ],
             [
              0.2222222222222222,
              "#7201a8"
             ],
             [
              0.3333333333333333,
              "#9c179e"
             ],
             [
              0.4444444444444444,
              "#bd3786"
             ],
             [
              0.5555555555555556,
              "#d8576b"
             ],
             [
              0.6666666666666666,
              "#ed7953"
             ],
             [
              0.7777777777777778,
              "#fb9f3a"
             ],
             [
              0.8888888888888888,
              "#fdca26"
             ],
             [
              1,
              "#f0f921"
             ]
            ],
            "type": "contour"
           }
          ],
          "contourcarpet": [
           {
            "colorbar": {
             "outlinewidth": 0,
             "ticks": ""
            },
            "type": "contourcarpet"
           }
          ],
          "heatmap": [
           {
            "colorbar": {
             "outlinewidth": 0,
             "ticks": ""
            },
            "colorscale": [
             [
              0,
              "#0d0887"
             ],
             [
              0.1111111111111111,
              "#46039f"
             ],
             [
              0.2222222222222222,
              "#7201a8"
             ],
             [
              0.3333333333333333,
              "#9c179e"
             ],
             [
              0.4444444444444444,
              "#bd3786"
             ],
             [
              0.5555555555555556,
              "#d8576b"
             ],
             [
              0.6666666666666666,
              "#ed7953"
             ],
             [
              0.7777777777777778,
              "#fb9f3a"
             ],
             [
              0.8888888888888888,
              "#fdca26"
             ],
             [
              1,
              "#f0f921"
             ]
            ],
            "type": "heatmap"
           }
          ],
          "histogram": [
           {
            "marker": {
             "pattern": {
              "fillmode": "overlay",
              "size": 10,
              "solidity": 0.2
             }
            },
            "type": "histogram"
           }
          ],
          "histogram2d": [
           {
            "colorbar": {
             "outlinewidth": 0,
             "ticks": ""
            },
            "colorscale": [
             [
              0,
              "#0d0887"
             ],
             [
              0.1111111111111111,
              "#46039f"
             ],
             [
              0.2222222222222222,
              "#7201a8"
             ],
             [
              0.3333333333333333,
              "#9c179e"
             ],
             [
              0.4444444444444444,
              "#bd3786"
             ],
             [
              0.5555555555555556,
              "#d8576b"
             ],
             [
              0.6666666666666666,
              "#ed7953"
             ],
             [
              0.7777777777777778,
              "#fb9f3a"
             ],
             [
              0.8888888888888888,
              "#fdca26"
             ],
             [
              1,
              "#f0f921"
             ]
            ],
            "type": "histogram2d"
           }
          ],
          "histogram2dcontour": [
           {
            "colorbar": {
             "outlinewidth": 0,
             "ticks": ""
            },
            "colorscale": [
             [
              0,
              "#0d0887"
             ],
             [
              0.1111111111111111,
              "#46039f"
             ],
             [
              0.2222222222222222,
              "#7201a8"
             ],
             [
              0.3333333333333333,
              "#9c179e"
             ],
             [
              0.4444444444444444,
              "#bd3786"
             ],
             [
              0.5555555555555556,
              "#d8576b"
             ],
             [
              0.6666666666666666,
              "#ed7953"
             ],
             [
              0.7777777777777778,
              "#fb9f3a"
             ],
             [
              0.8888888888888888,
              "#fdca26"
             ],
             [
              1,
              "#f0f921"
             ]
            ],
            "type": "histogram2dcontour"
           }
          ],
          "mesh3d": [
           {
            "colorbar": {
             "outlinewidth": 0,
             "ticks": ""
            },
            "type": "mesh3d"
           }
          ],
          "parcoords": [
           {
            "line": {
             "colorbar": {
              "outlinewidth": 0,
              "ticks": ""
             }
            },
            "type": "parcoords"
           }
          ],
          "pie": [
           {
            "automargin": true,
            "type": "pie"
           }
          ],
          "scatter": [
           {
            "fillpattern": {
             "fillmode": "overlay",
             "size": 10,
             "solidity": 0.2
            },
            "type": "scatter"
           }
          ],
          "scatter3d": [
           {
            "line": {
             "colorbar": {
              "outlinewidth": 0,
              "ticks": ""
             }
            },
            "marker": {
             "colorbar": {
              "outlinewidth": 0,
              "ticks": ""
             }
            },
            "type": "scatter3d"
           }
          ],
          "scattercarpet": [
           {
            "marker": {
             "colorbar": {
              "outlinewidth": 0,
              "ticks": ""
             }
            },
            "type": "scattercarpet"
           }
          ],
          "scattergeo": [
           {
            "marker": {
             "colorbar": {
              "outlinewidth": 0,
              "ticks": ""
             }
            },
            "type": "scattergeo"
           }
          ],
          "scattergl": [
           {
            "marker": {
             "colorbar": {
              "outlinewidth": 0,
              "ticks": ""
             }
            },
            "type": "scattergl"
           }
          ],
          "scattermap": [
           {
            "marker": {
             "colorbar": {
              "outlinewidth": 0,
              "ticks": ""
             }
            },
            "type": "scattermap"
           }
          ],
          "scattermapbox": [
           {
            "marker": {
             "colorbar": {
              "outlinewidth": 0,
              "ticks": ""
             }
            },
            "type": "scattermapbox"
           }
          ],
          "scatterpolar": [
           {
            "marker": {
             "colorbar": {
              "outlinewidth": 0,
              "ticks": ""
             }
            },
            "type": "scatterpolar"
           }
          ],
          "scatterpolargl": [
           {
            "marker": {
             "colorbar": {
              "outlinewidth": 0,
              "ticks": ""
             }
            },
            "type": "scatterpolargl"
           }
          ],
          "scatterternary": [
           {
            "marker": {
             "colorbar": {
              "outlinewidth": 0,
              "ticks": ""
             }
            },
            "type": "scatterternary"
           }
          ],
          "surface": [
           {
            "colorbar": {
             "outlinewidth": 0,
             "ticks": ""
            },
            "colorscale": [
             [
              0,
              "#0d0887"
             ],
             [
              0.1111111111111111,
              "#46039f"
             ],
             [
              0.2222222222222222,
              "#7201a8"
             ],
             [
              0.3333333333333333,
              "#9c179e"
             ],
             [
              0.4444444444444444,
              "#bd3786"
             ],
             [
              0.5555555555555556,
              "#d8576b"
             ],
             [
              0.6666666666666666,
              "#ed7953"
             ],
             [
              0.7777777777777778,
              "#fb9f3a"
             ],
             [
              0.8888888888888888,
              "#fdca26"
             ],
             [
              1,
              "#f0f921"
             ]
            ],
            "type": "surface"
           }
          ],
          "table": [
           {
            "cells": {
             "fill": {
              "color": "#EBF0F8"
             },
             "line": {
              "color": "white"
             }
            },
            "header": {
             "fill": {
              "color": "#C8D4E3"
             },
             "line": {
              "color": "white"
             }
            },
            "type": "table"
           }
          ]
         },
         "layout": {
          "annotationdefaults": {
           "arrowcolor": "#2a3f5f",
           "arrowhead": 0,
           "arrowwidth": 1
          },
          "autotypenumbers": "strict",
          "coloraxis": {
           "colorbar": {
            "outlinewidth": 0,
            "ticks": ""
           }
          },
          "colorscale": {
           "diverging": [
            [
             0,
             "#8e0152"
            ],
            [
             0.1,
             "#c51b7d"
            ],
            [
             0.2,
             "#de77ae"
            ],
            [
             0.3,
             "#f1b6da"
            ],
            [
             0.4,
             "#fde0ef"
            ],
            [
             0.5,
             "#f7f7f7"
            ],
            [
             0.6,
             "#e6f5d0"
            ],
            [
             0.7,
             "#b8e186"
            ],
            [
             0.8,
             "#7fbc41"
            ],
            [
             0.9,
             "#4d9221"
            ],
            [
             1,
             "#276419"
            ]
           ],
           "sequential": [
            [
             0,
             "#0d0887"
            ],
            [
             0.1111111111111111,
             "#46039f"
            ],
            [
             0.2222222222222222,
             "#7201a8"
            ],
            [
             0.3333333333333333,
             "#9c179e"
            ],
            [
             0.4444444444444444,
             "#bd3786"
            ],
            [
             0.5555555555555556,
             "#d8576b"
            ],
            [
             0.6666666666666666,
             "#ed7953"
            ],
            [
             0.7777777777777778,
             "#fb9f3a"
            ],
            [
             0.8888888888888888,
             "#fdca26"
            ],
            [
             1,
             "#f0f921"
            ]
           ],
           "sequentialminus": [
            [
             0,
             "#0d0887"
            ],
            [
             0.1111111111111111,
             "#46039f"
            ],
            [
             0.2222222222222222,
             "#7201a8"
            ],
            [
             0.3333333333333333,
             "#9c179e"
            ],
            [
             0.4444444444444444,
             "#bd3786"
            ],
            [
             0.5555555555555556,
             "#d8576b"
            ],
            [
             0.6666666666666666,
             "#ed7953"
            ],
            [
             0.7777777777777778,
             "#fb9f3a"
            ],
            [
             0.8888888888888888,
             "#fdca26"
            ],
            [
             1,
             "#f0f921"
            ]
           ]
          },
          "colorway": [
           "#636efa",
           "#EF553B",
           "#00cc96",
           "#ab63fa",
           "#FFA15A",
           "#19d3f3",
           "#FF6692",
           "#B6E880",
           "#FF97FF",
           "#FECB52"
          ],
          "font": {
           "color": "#2a3f5f"
          },
          "geo": {
           "bgcolor": "white",
           "lakecolor": "white",
           "landcolor": "#E5ECF6",
           "showlakes": true,
           "showland": true,
           "subunitcolor": "white"
          },
          "hoverlabel": {
           "align": "left"
          },
          "hovermode": "closest",
          "mapbox": {
           "style": "light"
          },
          "paper_bgcolor": "white",
          "plot_bgcolor": "#E5ECF6",
          "polar": {
           "angularaxis": {
            "gridcolor": "white",
            "linecolor": "white",
            "ticks": ""
           },
           "bgcolor": "#E5ECF6",
           "radialaxis": {
            "gridcolor": "white",
            "linecolor": "white",
            "ticks": ""
           }
          },
          "scene": {
           "xaxis": {
            "backgroundcolor": "#E5ECF6",
            "gridcolor": "white",
            "gridwidth": 2,
            "linecolor": "white",
            "showbackground": true,
            "ticks": "",
            "zerolinecolor": "white"
           },
           "yaxis": {
            "backgroundcolor": "#E5ECF6",
            "gridcolor": "white",
            "gridwidth": 2,
            "linecolor": "white",
            "showbackground": true,
            "ticks": "",
            "zerolinecolor": "white"
           },
           "zaxis": {
            "backgroundcolor": "#E5ECF6",
            "gridcolor": "white",
            "gridwidth": 2,
            "linecolor": "white",
            "showbackground": true,
            "ticks": "",
            "zerolinecolor": "white"
           }
          },
          "shapedefaults": {
           "line": {
            "color": "#2a3f5f"
           }
          },
          "ternary": {
           "aaxis": {
            "gridcolor": "white",
            "linecolor": "white",
            "ticks": ""
           },
           "baxis": {
            "gridcolor": "white",
            "linecolor": "white",
            "ticks": ""
           },
           "bgcolor": "#E5ECF6",
           "caxis": {
            "gridcolor": "white",
            "linecolor": "white",
            "ticks": ""
           }
          },
          "title": {
           "x": 0.05
          },
          "xaxis": {
           "automargin": true,
           "gridcolor": "white",
           "linecolor": "white",
           "ticks": "",
           "title": {
            "standoff": 15
           },
           "zerolinecolor": "white",
           "zerolinewidth": 2
          },
          "yaxis": {
           "automargin": true,
           "gridcolor": "white",
           "linecolor": "white",
           "ticks": "",
           "title": {
            "standoff": 15
           },
           "zerolinecolor": "white",
           "zerolinewidth": 2
          }
         }
        },
        "title": {
         "text": "Point Cloud: group of men in safety vests"
        }
       }
      }
     },
     "metadata": {},
     "output_type": "display_data"
    },
    {
     "name": "stdout",
     "output_type": "stream",
     "text": [
      "\n",
      "Object 2: metal circular objects\n",
      "Point cloud: /home/isr-lab3/James/vqasynth_output/pointclouds/pointcloud_0_1.pcd\n",
      "Points: 101\n",
      "X range: -0.50 to 0.16\n",
      "Y range: 0.09 to 0.27\n",
      "Z range: 0.29 to 0.92\n"
     ]
    },
    {
     "data": {
      "application/vnd.plotly.v1+json": {
       "config": {
        "plotlyServerURL": "https://plot.ly"
       },
       "data": [
        {
         "marker": {
          "opacity": 0.6,
          "size": 2
         },
         "mode": "markers",
         "name": "Object 2",
         "type": "scatter3d",
         "x": {
          "bdata": "AAAAwPgykL8AAACA2JSNvwAAAEB9o4q/AAAAIBxnsr8AAAAAN1SyvwAAAMBrHLK/AAAAoKDksb8AAACA1ayxvwAAAGAKdbG/AAAAID89sb8AAADAGZLCvwAAAMD/YcK/AAAAQGtEwr8AAACg1ibCvwAAACBF98G/AAAAgADIwb8AAADgpqrBvwAAAADMe8G/AAAAoI9ewb8AAAAAugngvwAAAMAz+N+/AAAAYPrM378AAABA1KHfvwAAAIBUkt+/AAAAgIeO378AAADA43bfvwAAAGBTV9+/AAAAAFsg378AAAAgv0fEPwAAAAC/N8Q/AAAAAPx4xD8AAADAmWjEPwAAACAHgcQ/AAAAgHSZxD8AAADg4bHEPwAAAEBPysQ/AAAAoLzixD8AAABA81u4PwAAAEDYibg/AAAAYGvpuD8AAACArBe5PwAAAKDtRbk/AAAA4C50uT8AAACA9dW5PwAAAICTBLo/AAAAYNlnuj8AAAAA1Za6PwAAAKBXnrY/AAAAoFT6tj8AAACAUVa3PwAAAEATyrc/AAAAYGwmuD8AAAAgW5u4PwAAAMAQ+Lg/AAAAgMZUuT8AAAAgfLG5PwAAAMAxDro/AAAAAKCmj78AAADglsmMvwAAAMCN7Im/AAAAoIQPh78AAAAAhx6EvwAAAIBZRIG/AAAAoPm3fL8AAAAgUAl3vwAAAKCmWnG/AAAAYPpXZ78AAABg+ouyvwAAAEAvVLK/AAAAAGQcsr8AAADgmOSxvwAAAMDNrLG/AAAAoAJ1sb8AAABgNz2xvwAAAEBsBbG/AAAAIKHNsL8AAABg2HSwvwAAAKD7YcK/AAAAAC8ywr8AAAAAuBTCvwAAAABB98G/AAAAAMrZwb8AAADAoqrBvwAAACBJjcG/AAAAgItewb8AAABAT0HBvwAAAGA8NcG/AAAA4CtZ378AAAAAWkbfvwAAACCiK9+/AAAAIPkM378AAADg4vnevwAAAEBs7t6/AAAAQAT63r8AAAAAmQHfvwAAAKB0D8Q/AAAAQLEnxD8AAAAA7j/EPwAAAMAqWMQ/AAAAYGdwxD8AAACAj1W4Pw==",
          "dtype": "f8"
         },
         "y": {
          "bdata": "AAAAgIinxT8AAADAOL3FPwAAAMA3vcU/AAAAYJ3IuT8AAADgW/y5PwAAAKBa/Lk/AAAAYFn8uT8AAAAgWPy5PwAAAOBW/Lk/AAAAoFX8uT8AAACApuW7PwAAAADQybs/AAAAwM7Juz8AAABgzcm7PwAAAIASrrs/AAAAoHOSuz8AAABAcpK7PwAAAMDudrs/AAAAgO12uz8AAAAgLbDQPwAAAMBYtNA/AAAAgCuw0D8AAABg/6vQPwAAAOBsttA/AAAAQCrH0D8AAAAgdc3QPwAAAACOz9A/AAAAIA/F0D8AAACgNVG3PwAAAIDFIrc/AAAAYDNRtz8AAABgwyK3PwAAAEDCIrc/AAAAIMEitz8AAAAAwCK3PwAAAOC+Irc/AAAAwL0itz8AAAAgxeq1PwAAACDE6rU/AAAAgL8Wtj8AAABgvha2PwAAAGC9FrY/AAAAQLwWtj8AAADgD0O2PwAAAOAOQ7Y/AAAAQLtvtj8AAAAgum+2PwAAAKBrJMY/AAAAoGokxj8AAACAaSTGPwAAAMCWOsY/AAAAwJU6xj8AAABA2VDGPwAAACDYUMY/AAAAINdQxj8AAAAA1lDGPwAAAADVUMY/AAAAgOw8xj8AAABg6zzGPwAAAGDqPMY/AAAAYOk8xj8AAADAtybGPwAAAMC2JsY/AAAAIJsQxj8AAAAgmhDGPwAAAACZEMY/AAAAAJgQxj8AAABgpE67PwAAAACjTrs/AAAAwKFOuz8AAACAoE67PwAAAECfTrs/AAAAAJ5Ouz8AAADAnE67PwAAAICbTrs/AAAAIJpOuz8AAABgNxi7PwAAAOCAML0/AAAAIGATvT8AAADAXhO9PwAAAGBdE70/AAAAIFwTvT8AAACAWPa8PwAAAEBX9rw/AAAAoHDZvD8AAABAb9m8PwAAAEBT9rw/AAAAwBAg0T8AAADAoSjRPwAAAIDrLNE/AAAAYBAv0T8AAADgqDfRPwAAAECWRNE/AAAA4I5e0T8AAACgf3bRPwAAAOCZGrg/AAAAwJgauD8AAACglxq4PwAAAICWGrg/AAAAgJUauD8AAADAwqW2Pw==",
          "dtype": "f8"
         },
         "z": {
          "bdata": "AAAAAL184z8AAAAgQ5DjPwAAACBDkOM/AAAAIMAA1z8AAAAg7i7XPwAAAADuLtc/AAAAAO4u1z8AAAAA7i7XPwAAAODtLtc/AAAA4O0u1z8AAABAq63YPwAAAKAKldg/AAAAoAqV2D8AAACACpXYPwAAAGCCfNg/AAAAABNk2D8AAADgEmTYPwAAAKC7S9g/AAAAoLtL2D8AAACgK0jtPwAAAIB+T+0/AAAAgCtI7T8AAABg2kDtPwAAAEAoU+0/AAAAwIlw7T8AAADAlXvtPwAAAEBFf+0/AAAAwNts7T8AAABAmXXUPwAAAEDYTNQ/AAAAIJl11D8AAABA2EzUPwAAACDYTNQ/AAAAINhM1D8AAAAA2EzUPwAAAADYTNQ/AAAAANhM1D8AAADACxLTPwAAAMALEtM/AAAAYFQ40z8AAABgVDjTPwAAAEBUONM/AAAAQFQ40z8AAAAA6l7TPwAAAODpXtM/AAAA4MyF0z8AAADAzIXTPwAAACBAHOM/AAAAIEAc4z8AAAAAQBzjPwAAAGBlL+M/AAAAYGUv4z8AAAAAnkLjPwAAAACeQuM/AAAAAJ5C4z8AAADgnULjPwAAAOCdQuM/AAAAoDEJ4z8AAACAMQnjPwAAAIAxCeM/AAAAgDEJ4z8AAAAgMvbiPwAAAAAy9uI/AAAAgEXj4j8AAACARePiPwAAAIBF4+I/AAAAYEXj4j8AAABA8S7XPwAAAEDxLtc/AAAAIPEu1z8AAAAg8S7XPwAAAADxLtc/AAAAAPEu1z8AAAAA8S7XPwAAAODwLtc/AAAA4PAu1z8AAADAwgDXPwAAAAAOldg/AAAA4IV82D8AAADAhXzYPwAAAMCFfNg/AAAAoIV82D8AAAAgFmTYPwAAACAWZNg/AAAA4L5L2D8AAADgvkvYPwAAAAAWZNg/AAAAQB+e7D8AAACgcazsPwAAAICds+w/AAAAADS37D8AAADgksXsPwAAAAAv2+w/AAAAgJcG7T8AAACAmy7tPwAAAEBrJNQ/AAAAQGsk1D8AAABAayTUPwAAACBrJNQ/AAAAIGsk1D8AAADgYMbSPw==",
          "dtype": "f8"
         }
        }
       ],
       "layout": {
        "height": 500,
        "scene": {
         "xaxis": {
          "title": {
           "text": "X (meters)"
          }
         },
         "yaxis": {
          "title": {
           "text": "Y (meters)"
          }
         },
         "zaxis": {
          "title": {
           "text": "Z (meters)"
          }
         }
        },
        "template": {
         "data": {
          "bar": [
           {
            "error_x": {
             "color": "#2a3f5f"
            },
            "error_y": {
             "color": "#2a3f5f"
            },
            "marker": {
             "line": {
              "color": "#E5ECF6",
              "width": 0.5
             },
             "pattern": {
              "fillmode": "overlay",
              "size": 10,
              "solidity": 0.2
             }
            },
            "type": "bar"
           }
          ],
          "barpolar": [
           {
            "marker": {
             "line": {
              "color": "#E5ECF6",
              "width": 0.5
             },
             "pattern": {
              "fillmode": "overlay",
              "size": 10,
              "solidity": 0.2
             }
            },
            "type": "barpolar"
           }
          ],
          "carpet": [
           {
            "aaxis": {
             "endlinecolor": "#2a3f5f",
             "gridcolor": "white",
             "linecolor": "white",
             "minorgridcolor": "white",
             "startlinecolor": "#2a3f5f"
            },
            "baxis": {
             "endlinecolor": "#2a3f5f",
             "gridcolor": "white",
             "linecolor": "white",
             "minorgridcolor": "white",
             "startlinecolor": "#2a3f5f"
            },
            "type": "carpet"
           }
          ],
          "choropleth": [
           {
            "colorbar": {
             "outlinewidth": 0,
             "ticks": ""
            },
            "type": "choropleth"
           }
          ],
          "contour": [
           {
            "colorbar": {
             "outlinewidth": 0,
             "ticks": ""
            },
            "colorscale": [
             [
              0,
              "#0d0887"
             ],
             [
              0.1111111111111111,
              "#46039f"
             ],
             [
              0.2222222222222222,
              "#7201a8"
             ],
             [
              0.3333333333333333,
              "#9c179e"
             ],
             [
              0.4444444444444444,
              "#bd3786"
             ],
             [
              0.5555555555555556,
              "#d8576b"
             ],
             [
              0.6666666666666666,
              "#ed7953"
             ],
             [
              0.7777777777777778,
              "#fb9f3a"
             ],
             [
              0.8888888888888888,
              "#fdca26"
             ],
             [
              1,
              "#f0f921"
             ]
            ],
            "type": "contour"
           }
          ],
          "contourcarpet": [
           {
            "colorbar": {
             "outlinewidth": 0,
             "ticks": ""
            },
            "type": "contourcarpet"
           }
          ],
          "heatmap": [
           {
            "colorbar": {
             "outlinewidth": 0,
             "ticks": ""
            },
            "colorscale": [
             [
              0,
              "#0d0887"
             ],
             [
              0.1111111111111111,
              "#46039f"
             ],
             [
              0.2222222222222222,
              "#7201a8"
             ],
             [
              0.3333333333333333,
              "#9c179e"
             ],
             [
              0.4444444444444444,
              "#bd3786"
             ],
             [
              0.5555555555555556,
              "#d8576b"
             ],
             [
              0.6666666666666666,
              "#ed7953"
             ],
             [
              0.7777777777777778,
              "#fb9f3a"
             ],
             [
              0.8888888888888888,
              "#fdca26"
             ],
             [
              1,
              "#f0f921"
             ]
            ],
            "type": "heatmap"
           }
          ],
          "histogram": [
           {
            "marker": {
             "pattern": {
              "fillmode": "overlay",
              "size": 10,
              "solidity": 0.2
             }
            },
            "type": "histogram"
           }
          ],
          "histogram2d": [
           {
            "colorbar": {
             "outlinewidth": 0,
             "ticks": ""
            },
            "colorscale": [
             [
              0,
              "#0d0887"
             ],
             [
              0.1111111111111111,
              "#46039f"
             ],
             [
              0.2222222222222222,
              "#7201a8"
             ],
             [
              0.3333333333333333,
              "#9c179e"
             ],
             [
              0.4444444444444444,
              "#bd3786"
             ],
             [
              0.5555555555555556,
              "#d8576b"
             ],
             [
              0.6666666666666666,
              "#ed7953"
             ],
             [
              0.7777777777777778,
              "#fb9f3a"
             ],
             [
              0.8888888888888888,
              "#fdca26"
             ],
             [
              1,
              "#f0f921"
             ]
            ],
            "type": "histogram2d"
           }
          ],
          "histogram2dcontour": [
           {
            "colorbar": {
             "outlinewidth": 0,
             "ticks": ""
            },
            "colorscale": [
             [
              0,
              "#0d0887"
             ],
             [
              0.1111111111111111,
              "#46039f"
             ],
             [
              0.2222222222222222,
              "#7201a8"
             ],
             [
              0.3333333333333333,
              "#9c179e"
             ],
             [
              0.4444444444444444,
              "#bd3786"
             ],
             [
              0.5555555555555556,
              "#d8576b"
             ],
             [
              0.6666666666666666,
              "#ed7953"
             ],
             [
              0.7777777777777778,
              "#fb9f3a"
             ],
             [
              0.8888888888888888,
              "#fdca26"
             ],
             [
              1,
              "#f0f921"
             ]
            ],
            "type": "histogram2dcontour"
           }
          ],
          "mesh3d": [
           {
            "colorbar": {
             "outlinewidth": 0,
             "ticks": ""
            },
            "type": "mesh3d"
           }
          ],
          "parcoords": [
           {
            "line": {
             "colorbar": {
              "outlinewidth": 0,
              "ticks": ""
             }
            },
            "type": "parcoords"
           }
          ],
          "pie": [
           {
            "automargin": true,
            "type": "pie"
           }
          ],
          "scatter": [
           {
            "fillpattern": {
             "fillmode": "overlay",
             "size": 10,
             "solidity": 0.2
            },
            "type": "scatter"
           }
          ],
          "scatter3d": [
           {
            "line": {
             "colorbar": {
              "outlinewidth": 0,
              "ticks": ""
             }
            },
            "marker": {
             "colorbar": {
              "outlinewidth": 0,
              "ticks": ""
             }
            },
            "type": "scatter3d"
           }
          ],
          "scattercarpet": [
           {
            "marker": {
             "colorbar": {
              "outlinewidth": 0,
              "ticks": ""
             }
            },
            "type": "scattercarpet"
           }
          ],
          "scattergeo": [
           {
            "marker": {
             "colorbar": {
              "outlinewidth": 0,
              "ticks": ""
             }
            },
            "type": "scattergeo"
           }
          ],
          "scattergl": [
           {
            "marker": {
             "colorbar": {
              "outlinewidth": 0,
              "ticks": ""
             }
            },
            "type": "scattergl"
           }
          ],
          "scattermap": [
           {
            "marker": {
             "colorbar": {
              "outlinewidth": 0,
              "ticks": ""
             }
            },
            "type": "scattermap"
           }
          ],
          "scattermapbox": [
           {
            "marker": {
             "colorbar": {
              "outlinewidth": 0,
              "ticks": ""
             }
            },
            "type": "scattermapbox"
           }
          ],
          "scatterpolar": [
           {
            "marker": {
             "colorbar": {
              "outlinewidth": 0,
              "ticks": ""
             }
            },
            "type": "scatterpolar"
           }
          ],
          "scatterpolargl": [
           {
            "marker": {
             "colorbar": {
              "outlinewidth": 0,
              "ticks": ""
             }
            },
            "type": "scatterpolargl"
           }
          ],
          "scatterternary": [
           {
            "marker": {
             "colorbar": {
              "outlinewidth": 0,
              "ticks": ""
             }
            },
            "type": "scatterternary"
           }
          ],
          "surface": [
           {
            "colorbar": {
             "outlinewidth": 0,
             "ticks": ""
            },
            "colorscale": [
             [
              0,
              "#0d0887"
             ],
             [
              0.1111111111111111,
              "#46039f"
             ],
             [
              0.2222222222222222,
              "#7201a8"
             ],
             [
              0.3333333333333333,
              "#9c179e"
             ],
             [
              0.4444444444444444,
              "#bd3786"
             ],
             [
              0.5555555555555556,
              "#d8576b"
             ],
             [
              0.6666666666666666,
              "#ed7953"
             ],
             [
              0.7777777777777778,
              "#fb9f3a"
             ],
             [
              0.8888888888888888,
              "#fdca26"
             ],
             [
              1,
              "#f0f921"
             ]
            ],
            "type": "surface"
           }
          ],
          "table": [
           {
            "cells": {
             "fill": {
              "color": "#EBF0F8"
             },
             "line": {
              "color": "white"
             }
            },
            "header": {
             "fill": {
              "color": "#C8D4E3"
             },
             "line": {
              "color": "white"
             }
            },
            "type": "table"
           }
          ]
         },
         "layout": {
          "annotationdefaults": {
           "arrowcolor": "#2a3f5f",
           "arrowhead": 0,
           "arrowwidth": 1
          },
          "autotypenumbers": "strict",
          "coloraxis": {
           "colorbar": {
            "outlinewidth": 0,
            "ticks": ""
           }
          },
          "colorscale": {
           "diverging": [
            [
             0,
             "#8e0152"
            ],
            [
             0.1,
             "#c51b7d"
            ],
            [
             0.2,
             "#de77ae"
            ],
            [
             0.3,
             "#f1b6da"
            ],
            [
             0.4,
             "#fde0ef"
            ],
            [
             0.5,
             "#f7f7f7"
            ],
            [
             0.6,
             "#e6f5d0"
            ],
            [
             0.7,
             "#b8e186"
            ],
            [
             0.8,
             "#7fbc41"
            ],
            [
             0.9,
             "#4d9221"
            ],
            [
             1,
             "#276419"
            ]
           ],
           "sequential": [
            [
             0,
             "#0d0887"
            ],
            [
             0.1111111111111111,
             "#46039f"
            ],
            [
             0.2222222222222222,
             "#7201a8"
            ],
            [
             0.3333333333333333,
             "#9c179e"
            ],
            [
             0.4444444444444444,
             "#bd3786"
            ],
            [
             0.5555555555555556,
             "#d8576b"
            ],
            [
             0.6666666666666666,
             "#ed7953"
            ],
            [
             0.7777777777777778,
             "#fb9f3a"
            ],
            [
             0.8888888888888888,
             "#fdca26"
            ],
            [
             1,
             "#f0f921"
            ]
           ],
           "sequentialminus": [
            [
             0,
             "#0d0887"
            ],
            [
             0.1111111111111111,
             "#46039f"
            ],
            [
             0.2222222222222222,
             "#7201a8"
            ],
            [
             0.3333333333333333,
             "#9c179e"
            ],
            [
             0.4444444444444444,
             "#bd3786"
            ],
            [
             0.5555555555555556,
             "#d8576b"
            ],
            [
             0.6666666666666666,
             "#ed7953"
            ],
            [
             0.7777777777777778,
             "#fb9f3a"
            ],
            [
             0.8888888888888888,
             "#fdca26"
            ],
            [
             1,
             "#f0f921"
            ]
           ]
          },
          "colorway": [
           "#636efa",
           "#EF553B",
           "#00cc96",
           "#ab63fa",
           "#FFA15A",
           "#19d3f3",
           "#FF6692",
           "#B6E880",
           "#FF97FF",
           "#FECB52"
          ],
          "font": {
           "color": "#2a3f5f"
          },
          "geo": {
           "bgcolor": "white",
           "lakecolor": "white",
           "landcolor": "#E5ECF6",
           "showlakes": true,
           "showland": true,
           "subunitcolor": "white"
          },
          "hoverlabel": {
           "align": "left"
          },
          "hovermode": "closest",
          "mapbox": {
           "style": "light"
          },
          "paper_bgcolor": "white",
          "plot_bgcolor": "#E5ECF6",
          "polar": {
           "angularaxis": {
            "gridcolor": "white",
            "linecolor": "white",
            "ticks": ""
           },
           "bgcolor": "#E5ECF6",
           "radialaxis": {
            "gridcolor": "white",
            "linecolor": "white",
            "ticks": ""
           }
          },
          "scene": {
           "xaxis": {
            "backgroundcolor": "#E5ECF6",
            "gridcolor": "white",
            "gridwidth": 2,
            "linecolor": "white",
            "showbackground": true,
            "ticks": "",
            "zerolinecolor": "white"
           },
           "yaxis": {
            "backgroundcolor": "#E5ECF6",
            "gridcolor": "white",
            "gridwidth": 2,
            "linecolor": "white",
            "showbackground": true,
            "ticks": "",
            "zerolinecolor": "white"
           },
           "zaxis": {
            "backgroundcolor": "#E5ECF6",
            "gridcolor": "white",
            "gridwidth": 2,
            "linecolor": "white",
            "showbackground": true,
            "ticks": "",
            "zerolinecolor": "white"
           }
          },
          "shapedefaults": {
           "line": {
            "color": "#2a3f5f"
           }
          },
          "ternary": {
           "aaxis": {
            "gridcolor": "white",
            "linecolor": "white",
            "ticks": ""
           },
           "baxis": {
            "gridcolor": "white",
            "linecolor": "white",
            "ticks": ""
           },
           "bgcolor": "#E5ECF6",
           "caxis": {
            "gridcolor": "white",
            "linecolor": "white",
            "ticks": ""
           }
          },
          "title": {
           "x": 0.05
          },
          "xaxis": {
           "automargin": true,
           "gridcolor": "white",
           "linecolor": "white",
           "ticks": "",
           "title": {
            "standoff": 15
           },
           "zerolinecolor": "white",
           "zerolinewidth": 2
          },
          "yaxis": {
           "automargin": true,
           "gridcolor": "white",
           "linecolor": "white",
           "ticks": "",
           "title": {
            "standoff": 15
           },
           "zerolinecolor": "white",
           "zerolinewidth": 2
          }
         }
        },
        "title": {
         "text": "Point Cloud: metal circular objects"
        }
       }
      }
     },
     "metadata": {},
     "output_type": "display_data"
    },
    {
     "name": "stdout",
     "output_type": "stream",
     "text": [
      "\n",
      "Object 3: red metal shelving\n",
      "Point cloud: /home/isr-lab3/James/vqasynth_output/pointclouds/pointcloud_0_2.pcd\n",
      "Points: 592\n",
      "X range: -0.47 to 0.18\n",
      "Y range: 0.06 to 0.23\n",
      "Z range: 0.29 to 0.91\n"
     ]
    },
    {
     "data": {
      "application/vnd.plotly.v1+json": {
       "config": {
        "plotlyServerURL": "https://plot.ly"
       },
       "data": [
        {
         "marker": {
          "opacity": 0.6,
          "size": 2
         },
         "mode": "markers",
         "name": "Object 3",
         "type": "scatter3d",
         "x": {
          "bdata": "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",
          "dtype": "f8"
         },
         "y": {
          "bdata": "AAAAgPuQsj8AAABA+pCyPwAAAAD5kLI/AAAA4LLDxj8AAABAscPGPwAAAECkssY/AAAAwKKyxj8AAACA9azGPwAAAEC/ccY/AAAAgO9gxj8AAADg+bSwPwAAAAB/1rA/AAAA4H3WsD8AAABg9rSwPwAAAED1tLA/AAAAIPS0sD8AAAAA87SwPwAAAODxtLA/AAAAQK2TsD8AAAAgrJOwPwAAAACrk7A/AAAA4KhysD8AAADAp3KwPwAAAKAJhLA/AAAAoCylsD8AAADgkcawPwAAAIA66LA/AAAAoCYKsT8AAAAgOOiwPwAAAAA36LA/AAAA4DXosD8AAADANOiwPwAAAKAz6LA/AAAAgDLosD8AAABAMeiwPwAAACAw6LA/AAAAgJ4+wj8AAADAgDXCPwAAAIB/NcI/AAAAoGYswj8AAAAAUiPCPwAAACBCGsI/AAAAwDYRwj8AAACANRHCPwAAAIAuCMI/AAAAYC0Iwj8AAAAAK//BPwAAAMAp/8E/AAAA4Cv2wT8AAABgMu3BPwAAAIA95ME/AAAAwKYZwD8AAABgKvO/PwAAAMBH078/AAAAoISzvz8AAABg4ZO/PwAAAABedL8/AAAAoPlUvz8AAACg91S/PwAAAKCyNb8/AAAAgLA1vz8AAADgiha/PwAAAOCIFr8/AAAAgIL3vj8AAABggPe+PwAAAGB+974/AAAAQHz3vj8AAABASv6zPwAAAABJ/rM/AAAAoEf+sz8AAABgRv6zPwAAACBF/rM/AAAAwEP+sz8AAADgctazPwAAAIBx1rM/AAAAQHDWsz8AAAAAb9azPwAAAKBt1rM/AAAAYGzWsz8AAACgOv6zPwAAAIDITrQ/AAAAYOsytT8AAADgHiC+PwAAACCe6LM/AAAA4Jzosz8AAACAm+izPwAAAECa6LM/AAAAAJnosz8AAACgl+izPwAAAGCW6LM/AAAAIJXosz8AAABg78CzPwAAACDuwLM/AAAA4OzAsz8AAACA68CzPwAAAEDqwLM/AAAAAOnAsz8AAADA58CzPwAAAIDmwLM/AAAAIOXAsz8AAAAAsa3IPwAAAKBInsg/AAAAAEeeyD8AAAAA+pHIPwAAAGD4kcg/AAAAYNOLyD8AAADAn4LIPwAAAIB+fMg/AAAA4F52yD8AAABAyVHIPwAAACCDOcg/AAAAwFkkyD8AAABAQQzIPwAAAMBA9Mc/AAAAoHrKxz8AAAAgiIPHPwAAAEBwIMc/AAAAAJjmsT8AAADgluaxPwAAAMCV5rE/AAAAoJTmsT8AAABgk+axPwAAAECS5rE/AAAAIJHmsT8AAAAAkOaxPwAAAIDqwrE/AAAAQIyfsT8AAAAgi5+xPwAAAABzfLE/AAAA4HF8sT8AAADAcHyxPwAAAMCeWbE/AAAAoJ1ZsT8AAACAnFmxPwAAAGCbWbE/AAAAgF6LsT8AAADADdKxPwAAAKAM0rE/AAAAgAvSsT8AAABgCtKxPwAAAMDL9bE/AAAAoMr1sT8AAACAyfWxPwAAAGDI9bE/AAAAQMf1sT8AAAAgxvWxPwAAAADF9bE/AAAAYAHSsT8AAACgwvWxPwAAACD/0bE/AAAAYMD1sT8AAABAv/WxPwAAAIDIGbI/AAAAoHZnwz8AAADAxF3DPwAAAMAXVMM/AAAAoBZUwz8AAABgFVTDPwAAACBtSsM/AAAAYCw3wz8AAACgki3DPwAAAKD9I8M/AAAAgPwjwz8AAABgbBrDPwAAAIBbB8M/AAAAwNn9wj8AAACgXPTCPwAAAGDk6sI/AAAAoHDhwj8AAADAAdjCPwAAAKAA2MI/AAAA4AQ2wT8AAACg1yTBPwAAAMCxAsE/AAAAoLfxwD8AAACgtvHAPwAAAIDN4MA/AAAAoPXPwD8AAACA9M/APwAAAEAtv8A/AAAAgHauwD8AAACAda7APwAAAIB0rsA/AAAAgM6dwD8AAABgOY3APwAAAGA4jcA/AAAAwLN8wD8AAADAsnzAPwAAAMCxfMA/AAAAoMgwtT8AAABgxzC1PwAAACDGMLU/AAAAwMQwtT8AAACAwzC1PwAAACDCMLU/AAAA4MAwtT8AAACgvzC1PwAAAEC+MLU/AAAAAIsGtT8AAADAiQa1PwAAAGCIBrU/AAAAIIcGtT8AAADghQa1PwAAAGCm3LQ/AAAAIKXctD8AAABAGbO0PwAAAAAYs7Q/AAAAQDpAtT8AAAAAOUC1PwAAAMA3QLU/AAAAYDZAtT8AAAAgNUC1PwAAAOAzQLU/AAAAgDJAtT8AAABAMUC1PwAAAADfFbU/AAAAwN0VtT8AAACA3BW1PwAAAEDbFbU/AAAA4NkVtT8AAACg2BW1PwAAAGDXFbU/AAAAINYVtT8AAADg1BW1PwAAAIDTFbU/AAAAQNIVtT8AAADA+HPKPwAAAGBbbco/AAAAoL9myj8AAACAcWPKPwAAAOBvY8o/AAAAwNZcyj8AAADAIGDKPwAAAECIWco/AAAA4F1Myj8AAADg71LKPwAAAICDWco/AAAAIFlMyj8AAABgNT/KPwAAAIBvEco/AAAAwJbQyT8AAACgeMDJPwAAAEAsjck/AAAAwFw0yT8AAACAV9DIPwAAACCsYcg/AAAA4DQYsz8AAADAMxizPwAAAKAyGLM/AAAAgDEYsz8AAABgMBizPwAAACAvGLM/AAAAAC4Ysz8AAADgLBizPwAAAKAm8rI/AAAAgCXysj8AAAAga8yyPwAAAKD7prI/AAAAgPqmsj8AAADA1YGyPwAAAKDUgbI/AAAAwPlcsj8AAACg+FyyPwAAAKD3XLI/AAAAgGY4sj8AAABgZTiyPwAAAOAb2bI/AAAAwBrZsj8AAACgGdmyPwAAAIDr/rI/AAAAYOr+sj8AAABA6f6yPwAAAMAGJbM/AAAAoAUlsz8AAACABCWzPwAAAGADJbM/AAAAQAIlsz8AAAAgASWzPwAAAAAAJbM/AAAA4P4ksz8AAAAg3/6yPwAAAADe/rI/AAAA4Nz+sj8AAADA2/6yPwAAAKDa/rI/AAAAgNn+sj8AAACgkVnEPwAAAGCQWcQ/AAAAQI9ZxD8AAAAAjlnEPwAAAIC7Y8Q/AAAAYLpjxD8AAACAilnEPwAAAKBfT8Q/AAAA4DlFxD8AAADAOEXEPwAAAEAYO8Q/AAAAoPwwxD8AAABA5ibEPwAAAKDUHMQ/AAAAAMIIxD8AAACAv/7DPwAAACDC9MM/AAAAwMnqwz8AAABA1uDDPwAAAADV4MM/AAAAYIqlwj8AAADAKHfCPwAAAMBgUsI/AAAAIOItwj8AAACAvRvCPwAAAACrCcI/AAAAgKr3wT8AAACAqffBPwAAACC75cE/AAAAoN7TwT8AAACg3dPBPwAAAIDc08E/AAAAoBHCwT8AAACgEMLBPwAAAKBXsME/AAAAoFawwT8AAACgVbDBPwAAAIBUsME/AAAAgFOwwT8AAACAUrDBPwAAAIBRsME/AAAAADRetj8AAADAMl62PwAAAGAxXrY/AAAAIDBetj8AAADgLl62PwAAAKAtXrY/AAAAQCxetj8AAAAAK162PwAAAMApXrY/AAAAYChetj8AAAAgJ162PwAAAOAlXrY/AAAAoCRetj8AAABAI162PwAAAAAiXrY/AAAAwCBetj8AAABgH162PwAAACAeXrY/AAAAQJIxtj8AAAAAkTG2PwAAAABeBbY/AAAAwFwFtj8AAACAL8W2PwAAAIDWl7Y/AAAAINWXtj8AAADg05e2PwAAAKDSl7Y/AAAAQNGXtj8AAAAA0Je2PwAAAMDOl7Y/AAAAYM2Xtj8AAACgzmq2PwAAAEDNarY/AAAAAMxqtj8AAADAymq2PwAAAIDJarY/AAAAgCQ+tj8AAABAIz62PwAAAKDFarY/AAAAYMRqtj8AAAAgw2q2PwAAAMDBarY/AAAAgMBqtj8AAABAv2q2PwAAAKDXHsw/AAAAANYezD8AAAAAURvMPwAAAOBJFMw/AAAAgEQNzD8AAACAxBDMPwAAAADDEMw/AAAAgMwezD8AAABgxBfMPwAAAEC+EMw/AAAAoLwQzD8AAABgOQ3MPwAAAKA1Bsw/AAAAoLb0yz8AAAAgxt/LPwAAAMAXkMs/AAAAYAZgyz8AAACAS0HLPwAAAAB//co/AAAAQGOSyj8AAADgBzbKPwAAAADPAsk/AAAAAG0htD8AAADAayG0PwAAAKBqIbQ/AAAAgGkhtD8AAABgaCG0PwAAAEBnIbQ/AAAAIGYhtD8AAAAAZSG0PwAAAIBO+bM/AAAAYE35sz8AAABATPmzPwAAACBL+bM/AAAAQITRsz8AAAAgg9GzPwAAAACC0bM/AAAAwOKCsz8AAAAACFyzPwAAAOAGXLM/AAAAYHk1sz8AAABAeDWzPwAAAKA3D7M/AAAAoJvDsj8AAACgmsOyPwAAAGDL27M/AAAAgKQDtD8AAAAgyduzPwAAAADI27M/AAAA4Mbbsz8AAADAxduzPwAAAKDE27M/AAAAwJ0DtD8AAADAnAO0PwAAAKCbA7Q/AAAAgJoDtD8AAABgmQO0PwAAAECYA7Q/AAAA4Lzbsz8AAADAu9uzPwAAAKC627M/AAAAoLnbsz8AAACAuNuzPwAAAGC327M/AAAAQLbbsz8AAABAjwO0PwAAAAC027M/AAAA4LLbsz8AAADAnO7EPwAAAMAU+cQ/AAAAoBP5xD8AAABAkQPFPwAAAMATDsU/AAAAoBIOxT8AAACAmhjFPwAAAIAnI8U/AAAAYCYjxT8AAAAgJSPFPwAAAAAkI8U/AAAAYLYtxT8AAABAtS3FPwAAAIAgI8U/AAAAYB8jxT8AAAAgHiPFPwAAAAAdI8U/AAAAoI0YxT8AAACAAw7FPwAAAEACDsU/AAAAYH0DxT8AAACA/fjEPwAAAGD8+MQ/AAAAIA7kxD8AAAAgqhbEPwAAAOCgDMQ/AAAAgJ74wz8AAADAwNrDPwAAAEA0s8M/AAAAgL6Vwz8AAACAu27DPwAAAGAGSMM/AAAAIMg0wz8AAABAnSHDPwAAAECcIcM/AAAAIJshwz8AAABAgw7DPwAAAECCDsM/AAAAoH37wj8AAACgfPvCPwAAAKB7+8I/AAAAwInowj8AAADAiOjCPwAAAMCH6MI/AAAAoIbowj8AAACghejCPwAAAKCE6MI/AAAAgIPowj8AAADgmIa3PwAAAKCXhrc/AAAAQJaGtz8AAAAAlYa3PwAAACDLtbc/AAAA4Mm1tz8AAACgyLW3PwAAAEDHtbc/AAAAAMa1tz8AAADAxLW3PwAAAGDDtbc/AAAAIMK1tz8AAADgwLW3PwAAAKC/tbc/AAAAQL61tz8AAAAAvbW3PwAAAMC7tbc/AAAAYLq1tz8AAAAgubW3PwAAAOC3tbc/AAAAQEzltz8AAAAgpVe3PwAAAOCjV7c/AAAAgHuGtz8AAABAfB+4PwAAAEDlT7g/AAAAAORPuD8AAACg4k+4PwAAAAB3H7g/AAAAwHUfuD8AAACAdB+4PwAAACBzH7g/AAAA4HEfuD8AAAAAZ++3PwAAAMBl77c/AAAAgGTvtz8AAAAgY++3PwAAAOBh77c/AAAAgLa/tz8AAABAtb+3PwAAAAC0v7c/AAAAwLK/tz8AAACAsb+3PwAAACCwv7c/AAAA4K6/tz8AAACgrb+3PwAAAGCsv7c/AAAA4DjkzT8AAAAge+DNPwAAAKAC2c0/AAAAQLzczT8AAADgRNXNPwAAAOCI0c0/AAAAoEHVzT8AAAAgQNXNPwAAACARys0/AAAAgA/KzT8AAADgDcrNPwAAAADjvs0/AAAAwFCszT8AAADgZJLNPwAAAMA+fM0/AAAAYGUZzT8AAABgWvzMPwAAAABnzcw/AAAAIIJ3zD8AAAAglhvMPwAAAMAQbss/AAAAADMmtT8AAADgMSa1PwAAAKAT/LQ/AAAAgBL8tD8AAACALia1PwAAAEAQ/LQ/AAAAIA/8tD8AAAAADvy0PwAAAKBD0rQ/AAAAoMyotD8AAACAy6i0PwAAAECnf7Q/AAAA4NRWtD8AAADAUy60PwAAAEAjBrQ/AAAAQEPesz8AAAAgQt6zPwAAACCxtrM/AAAAgHxosz8AAABA1kGzPwAAAEAe2rQ/AAAAIB3atD8AAAAAHNq0PwAAAAAb2rQ/AAAA4BnatD8AAADAGNq0PwAAAKAX2rQ/AAAAgBbatD8AAACAFdq0PwAAAGAU2rQ/AAAAQBPatD8AAAAgEtq0PwAAAAAR2rQ/AAAAwBfBxT8AAACgFsHFPwAAACD4y8U/AAAAAPfLxT8=",
          "dtype": "f8"
         },
         "z": {
          "bdata": "AAAAoFGM1z8AAACgUYzXPwAAAKBRjNc/AAAAwJSI7D8AAADAlIjsPwAAAKA2c+w/AAAAgDZz7D8AAACgGmzsPwAAAGDhIew/AAAAANAM7D8AAABgt/HUPwAAAGDDG9U/AAAAQMMb1T8AAABAt/HUPwAAAEC38dQ/AAAAILfx1D8AAAAgt/HUPwAAACC38dQ/AAAA4P7H1D8AAADg/sfUPwAAAOD+x9Q/AAAAAJqe1D8AAADgmZ7UPwAAAOCLddQ/AAAAYJ6e1D8AAABAA8jUPwAAAGC78dQ/AAAAQMcb1T8AAABAu/HUPwAAACC78dQ/AAAAILvx1D8AAAAgu/HUPwAAAAC78dQ/AAAAALvx1D8AAADguvHUPwAAAOC68dQ/AAAAAHtX5j8AAAAgUkzmPwAAACBSTOY/AAAAAC9B5j8AAABAETbmPwAAAED5KuY/AAAAwOYf5j8AAACg5h/mPwAAAIDZFOY/AAAAgNkU5j8AAAAA0gnmPwAAAODRCeY/AAAA4M/+5T8AAABA0/PlPwAAAEDc6OU/AAAAIK984z8AAACA3VXjPwAAAKCRQuM/AAAAAFkv4z8AAACAMxzjPwAAAGAhCeM/AAAAACL24j8AAAAAIvbiPwAAAIA14+I/AAAAgDXj4j8AAAAAXNDiPwAAAABc0OI/AAAAgJW94j8AAABglb3iPwAAAGCVveI/AAAAYJW94j8AAAAAPOvXPwAAAAA869c/AAAA4Dvr1z8AAADgO+vXPwAAAMA769c/AAAAwDvr1z8AAABglrvXPwAAAGCWu9c/AAAAYJa71z8AAABAlrvXPwAAAECWu9c/AAAAIJa71z8AAABgO+vXPwAAAGClS9g/AAAAwK9c2T8AAADg0QXiPwAAACBVjNc/AAAAIFWM1z8AAAAAVYzXPwAAAABVjNc/AAAAAFWM1z8AAADgVIzXPwAAAOBUjNc/AAAAwFSM1z8AAABgbF3XPwAAAGBsXdc/AAAAYGxd1z8AAABAbF3XPwAAAEBsXdc/AAAAIGxd1z8AAAAgbF3XPwAAAABsXdc/AAAAAGxd1z8AAABgst7sPwAAACCtzOw/AAAAIK3M7D8AAABgSr7sPwAAAEBKvuw/AAAAoBu37D8AAAAgWazsPwAAAOAupew/AAAAoAae7D8AAABAOnPsPwAAAGDVVuw/AAAAoBQ+7D8AAAAA5SHsPwAAAIDRBew/AAAAwPLU6z8AAACg8YHrPwAAAAACDus/AAAAYLrx1D8AAABAuvHUPwAAAEC68dQ/AAAAILrx1D8AAAAguvHUPwAAACC68dQ/AAAAALrx1D8AAAAAuvHUPwAAAOAByNQ/AAAA4Jye1D8AAADgnJ7UPwAAAECKddQ/AAAAIIp11D8AAAAginXUPwAAAGDJTNQ/AAAAQMlM1D8AAABAyUzUPwAAAEDJTNQ/AAAA4M1M1D8AAABAoZ7UPwAAAEChntQ/AAAAQKGe1D8AAAAgoZ7UPwAAAAAGyNQ/AAAAAAbI1D8AAADgBcjUPwAAAOAFyNQ/AAAAwAXI1D8AAADABcjUPwAAAMAFyNQ/AAAAwKCe1D8AAACgBcjUPwAAAKCgntQ/AAAAgAXI1D8AAACABcjUPwAAAIC98dQ/AAAAYBQ25j8AAABg/CrmPwAAAODpH+Y/AAAA4Okf5j8AAADg6R/mPwAAAKDcFOY/AAAAQNP+5T8AAACg1vPlPwAAAKDf6OU/AAAAgN/o5T8AAAAA7t3lPwAAAGAbyOU/AAAAQDq95T8AAACAXrLlPwAAACCIp+U/AAAAILec5T8AAACg65HlPwAAAKDrkeU/AAAA4LF84z8AAABAP2njPwAAAECUQuM/AAAAoFsv4z8AAACAWy/jPwAAACA2HOM/AAAA4CMJ4z8AAADgIwnjPwAAAIAk9uI/AAAAIDjj4j8AAAAAOOPiPwAAAAA44+I/AAAAgF7Q4j8AAAAAmL3iPwAAAOCXveI/AAAAIOSq4j8AAAAg5KriPwAAAADkquI/AAAAAJq71z8AAAAAmrvXPwAAAOCZu9c/AAAA4Jm71z8AAADAmbvXPwAAAMCZu9c/AAAAoJm71z8AAACgmbvXPwAAAICZu9c/AAAAYFOM1z8AAABAU4zXPwAAAEBTjNc/AAAAIFOM1z8AAAAgU4zXPwAAAMBqXdc/AAAAwGpd1z8AAAAA4C7XPwAAAADgLtc/AAAAYFiM1z8AAABgWIzXPwAAAEBYjNc/AAAAQFiM1z8AAAAgWIzXPwAAACBYjNc/AAAAIFiM1z8AAAAAWIzXPwAAAKBvXdc/AAAAoG9d1z8AAACAb13XPwAAAIBvXdc/AAAAYG9d1z8AAABgb13XPwAAAEBvXdc/AAAAQG9d1z8AAABAb13XPwAAACBvXdc/AAAAIG9d1z8AAADg4gLtPwAAACCj++w/AAAAQGX07D8AAADAxvDsPwAAAKDG8Ow/AAAAgIvp7D8AAADAKO3sPwAAAGDu5ew/AAAAIH/X7D8AAADAtd7sPwAAACDu5ew/AAAAAH/X7D8AAAAAF8nsPwAAAKDjluw/AAAAgMRP7D8AAABAGD7sPwAAAEDVBew/AAAA4Gyk6z8AAACguDbrPwAAAABWveo/AAAAQL3x1D8AAAAgvfHUPwAAACC98dQ/AAAAAL3x1D8AAAAAvfHUPwAAAAC98dQ/AAAA4Lzx1D8AAADgvPHUPwAAAKAEyNQ/AAAAoATI1D8AAACgn57UPwAAAACNddQ/AAAAAI111D8AAAAgzEzUPwAAACDMTNQ/AAAAYFwk1D8AAABgXCTUPwAAAGBcJNQ/AAAAYD380z8AAABgPfzTPwAAAICRddQ/AAAAgJF11D8AAABgkXXUPwAAAACkntQ/AAAAAKSe1D8AAADgo57UPwAAAMAIyNQ/AAAAwAjI1D8AAADACMjUPwAAAKAIyNQ/AAAAoAjI1D8AAACACMjUPwAAAIAIyNQ/AAAAgAjI1D8AAACAo57UPwAAAICjntQ/AAAAYKOe1D8AAABgo57UPwAAAECjntQ/AAAAQKOe1D8AAACA8d3lPwAAAIDx3eU/AAAAYPHd5T8AAABg8d3lPwAAAMDi6OU/AAAAwOLo5T8AAABA8d3lPwAAACAF0+U/AAAAgB7I5T8AAABgHsjlPwAAAEA9veU/AAAAgGGy5T8AAABAi6flPwAAAEC6nOU/AAAAoCiH5T8AAADgZ3zlPwAAAICsceU/AAAAgPZm5T8AAADgRVzlPwAAAOBFXOU/AAAAYCrV4z8AAAAg1KPjPwAAAGC0fOM/AAAAoOJV4z8AAADglkLjPwAAACBeL+M/AAAAoDgc4z8AAACgOBzjPwAAAGAmCeM/AAAAICf24j8AAAAAJ/biPwAAAAAn9uI/AAAAgDrj4j8AAACAOuPiPwAAAABh0OI/AAAAAGHQ4j8AAADgYNDiPwAAAOBg0OI/AAAA4GDQ4j8AAADAYNDiPwAAAMBg0OI/AAAAIFeM1z8AAAAAV4zXPwAAAABXjNc/AAAAAFeM1z8AAADgVozXPwAAAOBWjNc/AAAAwFaM1z8AAADAVozXPwAAAKBWjNc/AAAAoFaM1z8AAACAVozXPwAAAIBWjNc/AAAAgFaM1z8AAABgVozXPwAAAGBWjNc/AAAAQFaM1z8AAABAVozXPwAAACBWjNc/AAAA4G1d1z8AAADAbV3XPwAAAADjLtc/AAAAAOMu1z8AAADgobvXPwAAAKBbjNc/AAAAgFuM1z8AAACAW4zXPwAAAIBbjNc/AAAAYFuM1z8AAABgW4zXPwAAAEBbjNc/AAAAQFuM1z8AAADgcl3XPwAAAMByXdc/AAAAwHJd1z8AAACgcl3XPwAAAKByXdc/AAAA4Ocu1z8AAADA5y7XPwAAAIByXdc/AAAAYHJd1z8AAABgcl3XPwAAAEByXdc/AAAAQHJd1z8AAAAgcl3XPwAAAGCHBu0/AAAAYIcG7T8AAADA5gLtPwAAAACn++w/AAAAAGn07D8AAACgB/jsPwAAAKAH+Ow/AAAA4IYG7T8AAAAgRv/sPwAAAGAH+Ow/AAAAYAf47D8AAACgaPTsPwAAAGAs7ew/AAAAAB7b7D8AAADggcXsPwAAAKBBc+w/AAAAIKRB7D8AAABg7CHsPwAAAEDw2+s/AAAAoF9t6z8AAABACQ7rPwAAACDj0Ok/AAAAAAjI1D8AAADgB8jUPwAAAOAHyNQ/AAAAwAfI1D8AAADAB8jUPwAAAMAHyNQ/AAAAoAfI1D8AAACgB8jUPwAAAKCintQ/AAAAoKKe1D8AAACAop7UPwAAAICintQ/AAAAwI911D8AAADAj3XUPwAAAMCPddQ/AAAAQF8k1D8AAABAQPzTPwAAAEBA/NM/AAAAAHHU0z8AAAAAcdTTPwAAAEDxrNM/AAAAIN1e0z8AAAAg3V7TPwAAAIDTTNQ/AAAAQJR11D8AAABg00zUPwAAAGDTTNQ/AAAAYNNM1D8AAABA00zUPwAAAEDTTNQ/AAAAAJR11D8AAAAAlHXUPwAAAOCTddQ/AAAA4JN11D8AAADgk3XUPwAAAMCTddQ/AAAA4NJM1D8AAADg0kzUPwAAAODSTNQ/AAAAwNJM1D8AAADA0kzUPwAAAKDSTNQ/AAAAoNJM1D8AAABgk3XUPwAAAIDSTNQ/AAAAgNJM1D8AAACAvDHlPwAAAKBXPOU/AAAAoFc85T8AAABg+EblPwAAAGCeUeU/AAAAQJ5R5T8AAABgSVzlPwAAAAD6ZuU/AAAA4Plm5T8AAADg+WblPwAAAOD5ZuU/AAAAwK9x5T8AAADAr3HlPwAAAKD5ZuU/AAAAoPlm5T8AAACg+WblPwAAAID5ZuU/AAAA4Ehc5T8AAACgnVHlPwAAAKCdUeU/AAAAoPdG5T8AAACgVjzlPwAAAKBWPOU/AAAAYCUn5T8AAADAHyXkPwAAAOAPG+Q/AAAAQP8G5D8AAADAC+njPwAAAABiweM/AAAAwNaj4z8AAAAAt3zjPwAAACDlVeM/AAAAYJlC4z8AAACgYC/jPwAAAIBgL+M/AAAAgGAv4z8AAAAAOxzjPwAAAAA7HOM/AAAAwCgJ4z8AAADAKAnjPwAAAMAoCeM/AAAAYCn24j8AAABAKfbiPwAAAEAp9uI/AAAAQCn24j8AAAAgKfbiPwAAACAp9uI/AAAAICn24j8AAAAAcl3XPwAAAOBxXdc/AAAA4HFd1z8AAADgcV3XPwAAACBajNc/AAAAAFqM1z8AAAAAWozXPwAAAABajNc/AAAA4FmM1z8AAADgWYzXPwAAAMBZjNc/AAAAwFmM1z8AAACgWYzXPwAAAKBZjNc/AAAAoFmM1z8AAACAWYzXPwAAAIBZjNc/AAAAYFmM1z8AAABgWYzXPwAAAEBZjNc/AAAAgJ+71z8AAAAg5i7XPwAAACDmLtc/AAAAwHBd1z8AAAAgpbvXPwAAAGBK69c/AAAAYErr1z8AAABASuvXPwAAAOCku9c/AAAA4KS71z8AAADApLvXPwAAAMCku9c/AAAAoKS71z8AAABgXozXPwAAAEBejNc/AAAAQF6M1z8AAAAgXozXPwAAACBejNc/AAAAwHVd1z8AAACgdV3XPwAAAKB1Xdc/AAAAgHVd1z8AAACAdV3XPwAAAGB1Xdc/AAAAYHVd1z8AAABgdV3XPwAAAEB1Xdc/AAAAAKAj7T8AAADA+x/tPwAAAIC0GO0/AAAA4Fcc7T8AAADAERXtPwAAAEBvEe0/AAAAoBEV7T8AAACAERXtPwAAAMArCu0/AAAAoCsK7T8AAACgKwrtPwAAAMBJ/+w/AAAAIDDt7D8AAADg69PsPwAAAGBVvuw/AAAAQPdd7D8AAADgp0HsPwAAAODiE+w/AAAAICbA6z8AAADAiGbrPwAAACBdveo/AAAAoKWe1D8AAACgpZ7UPwAAAOCSddQ/AAAA4JJ11D8AAACApZ7UPwAAAMCSddQ/AAAAwJJ11D8AAACgknXUPwAAAMDRTNQ/AAAAIGIk1D8AAAAAYiTUPwAAACBD/NM/AAAA4HPU0z8AAAAA9KzTPwAAAODChdM/AAAA4N9e0z8AAADg317TPwAAACBKONM/AAAAAAXs0j8AAABAVMbSPwAAACBmJNQ/AAAAIGYk1D8AAAAgZiTUPwAAAABmJNQ/AAAAAGYk1D8AAAAAZiTUPwAAAOBlJNQ/AAAA4GUk1D8AAADAZSTUPwAAAMBlJNQ/AAAAwGUk1D8AAACgZSTUPwAAAKBlJNQ/AAAA4DXT5D8AAADgNdPkPwAAAOCh3eQ/AAAA4KHd5D8=",
          "dtype": "f8"
         }
        }
       ],
       "layout": {
        "height": 500,
        "scene": {
         "xaxis": {
          "title": {
           "text": "X (meters)"
          }
         },
         "yaxis": {
          "title": {
           "text": "Y (meters)"
          }
         },
         "zaxis": {
          "title": {
           "text": "Z (meters)"
          }
         }
        },
        "template": {
         "data": {
          "bar": [
           {
            "error_x": {
             "color": "#2a3f5f"
            },
            "error_y": {
             "color": "#2a3f5f"
            },
            "marker": {
             "line": {
              "color": "#E5ECF6",
              "width": 0.5
             },
             "pattern": {
              "fillmode": "overlay",
              "size": 10,
              "solidity": 0.2
             }
            },
            "type": "bar"
           }
          ],
          "barpolar": [
           {
            "marker": {
             "line": {
              "color": "#E5ECF6",
              "width": 0.5
             },
             "pattern": {
              "fillmode": "overlay",
              "size": 10,
              "solidity": 0.2
             }
            },
            "type": "barpolar"
           }
          ],
          "carpet": [
           {
            "aaxis": {
             "endlinecolor": "#2a3f5f",
             "gridcolor": "white",
             "linecolor": "white",
             "minorgridcolor": "white",
             "startlinecolor": "#2a3f5f"
            },
            "baxis": {
             "endlinecolor": "#2a3f5f",
             "gridcolor": "white",
             "linecolor": "white",
             "minorgridcolor": "white",
             "startlinecolor": "#2a3f5f"
            },
            "type": "carpet"
           }
          ],
          "choropleth": [
           {
            "colorbar": {
             "outlinewidth": 0,
             "ticks": ""
            },
            "type": "choropleth"
           }
          ],
          "contour": [
           {
            "colorbar": {
             "outlinewidth": 0,
             "ticks": ""
            },
            "colorscale": [
             [
              0,
              "#0d0887"
             ],
             [
              0.1111111111111111,
              "#46039f"
             ],
             [
              0.2222222222222222,
              "#7201a8"
             ],
             [
              0.3333333333333333,
              "#9c179e"
             ],
             [
              0.4444444444444444,
              "#bd3786"
             ],
             [
              0.5555555555555556,
              "#d8576b"
             ],
             [
              0.6666666666666666,
              "#ed7953"
             ],
             [
              0.7777777777777778,
              "#fb9f3a"
             ],
             [
              0.8888888888888888,
              "#fdca26"
             ],
             [
              1,
              "#f0f921"
             ]
            ],
            "type": "contour"
           }
          ],
          "contourcarpet": [
           {
            "colorbar": {
             "outlinewidth": 0,
             "ticks": ""
            },
            "type": "contourcarpet"
           }
          ],
          "heatmap": [
           {
            "colorbar": {
             "outlinewidth": 0,
             "ticks": ""
            },
            "colorscale": [
             [
              0,
              "#0d0887"
             ],
             [
              0.1111111111111111,
              "#46039f"
             ],
             [
              0.2222222222222222,
              "#7201a8"
             ],
             [
              0.3333333333333333,
              "#9c179e"
             ],
             [
              0.4444444444444444,
              "#bd3786"
             ],
             [
              0.5555555555555556,
              "#d8576b"
             ],
             [
              0.6666666666666666,
              "#ed7953"
             ],
             [
              0.7777777777777778,
              "#fb9f3a"
             ],
             [
              0.8888888888888888,
              "#fdca26"
             ],
             [
              1,
              "#f0f921"
             ]
            ],
            "type": "heatmap"
           }
          ],
          "histogram": [
           {
            "marker": {
             "pattern": {
              "fillmode": "overlay",
              "size": 10,
              "solidity": 0.2
             }
            },
            "type": "histogram"
           }
          ],
          "histogram2d": [
           {
            "colorbar": {
             "outlinewidth": 0,
             "ticks": ""
            },
            "colorscale": [
             [
              0,
              "#0d0887"
             ],
             [
              0.1111111111111111,
              "#46039f"
             ],
             [
              0.2222222222222222,
              "#7201a8"
             ],
             [
              0.3333333333333333,
              "#9c179e"
             ],
             [
              0.4444444444444444,
              "#bd3786"
             ],
             [
              0.5555555555555556,
              "#d8576b"
             ],
             [
              0.6666666666666666,
              "#ed7953"
             ],
             [
              0.7777777777777778,
              "#fb9f3a"
             ],
             [
              0.8888888888888888,
              "#fdca26"
             ],
             [
              1,
              "#f0f921"
             ]
            ],
            "type": "histogram2d"
           }
          ],
          "histogram2dcontour": [
           {
            "colorbar": {
             "outlinewidth": 0,
             "ticks": ""
            },
            "colorscale": [
             [
              0,
              "#0d0887"
             ],
             [
              0.1111111111111111,
              "#46039f"
             ],
             [
              0.2222222222222222,
              "#7201a8"
             ],
             [
              0.3333333333333333,
              "#9c179e"
             ],
             [
              0.4444444444444444,
              "#bd3786"
             ],
             [
              0.5555555555555556,
              "#d8576b"
             ],
             [
              0.6666666666666666,
              "#ed7953"
             ],
             [
              0.7777777777777778,
              "#fb9f3a"
             ],
             [
              0.8888888888888888,
              "#fdca26"
             ],
             [
              1,
              "#f0f921"
             ]
            ],
            "type": "histogram2dcontour"
           }
          ],
          "mesh3d": [
           {
            "colorbar": {
             "outlinewidth": 0,
             "ticks": ""
            },
            "type": "mesh3d"
           }
          ],
          "parcoords": [
           {
            "line": {
             "colorbar": {
              "outlinewidth": 0,
              "ticks": ""
             }
            },
            "type": "parcoords"
           }
          ],
          "pie": [
           {
            "automargin": true,
            "type": "pie"
           }
          ],
          "scatter": [
           {
            "fillpattern": {
             "fillmode": "overlay",
             "size": 10,
             "solidity": 0.2
            },
            "type": "scatter"
           }
          ],
          "scatter3d": [
           {
            "line": {
             "colorbar": {
              "outlinewidth": 0,
              "ticks": ""
             }
            },
            "marker": {
             "colorbar": {
              "outlinewidth": 0,
              "ticks": ""
             }
            },
            "type": "scatter3d"
           }
          ],
          "scattercarpet": [
           {
            "marker": {
             "colorbar": {
              "outlinewidth": 0,
              "ticks": ""
             }
            },
            "type": "scattercarpet"
           }
          ],
          "scattergeo": [
           {
            "marker": {
             "colorbar": {
              "outlinewidth": 0,
              "ticks": ""
             }
            },
            "type": "scattergeo"
           }
          ],
          "scattergl": [
           {
            "marker": {
             "colorbar": {
              "outlinewidth": 0,
              "ticks": ""
             }
            },
            "type": "scattergl"
           }
          ],
          "scattermap": [
           {
            "marker": {
             "colorbar": {
              "outlinewidth": 0,
              "ticks": ""
             }
            },
            "type": "scattermap"
           }
          ],
          "scattermapbox": [
           {
            "marker": {
             "colorbar": {
              "outlinewidth": 0,
              "ticks": ""
             }
            },
            "type": "scattermapbox"
           }
          ],
          "scatterpolar": [
           {
            "marker": {
             "colorbar": {
              "outlinewidth": 0,
              "ticks": ""
             }
            },
            "type": "scatterpolar"
           }
          ],
          "scatterpolargl": [
           {
            "marker": {
             "colorbar": {
              "outlinewidth": 0,
              "ticks": ""
             }
            },
            "type": "scatterpolargl"
           }
          ],
          "scatterternary": [
           {
            "marker": {
             "colorbar": {
              "outlinewidth": 0,
              "ticks": ""
             }
            },
            "type": "scatterternary"
           }
          ],
          "surface": [
           {
            "colorbar": {
             "outlinewidth": 0,
             "ticks": ""
            },
            "colorscale": [
             [
              0,
              "#0d0887"
             ],
             [
              0.1111111111111111,
              "#46039f"
             ],
             [
              0.2222222222222222,
              "#7201a8"
             ],
             [
              0.3333333333333333,
              "#9c179e"
             ],
             [
              0.4444444444444444,
              "#bd3786"
             ],
             [
              0.5555555555555556,
              "#d8576b"
             ],
             [
              0.6666666666666666,
              "#ed7953"
             ],
             [
              0.7777777777777778,
              "#fb9f3a"
             ],
             [
              0.8888888888888888,
              "#fdca26"
             ],
             [
              1,
              "#f0f921"
             ]
            ],
            "type": "surface"
           }
          ],
          "table": [
           {
            "cells": {
             "fill": {
              "color": "#EBF0F8"
             },
             "line": {
              "color": "white"
             }
            },
            "header": {
             "fill": {
              "color": "#C8D4E3"
             },
             "line": {
              "color": "white"
             }
            },
            "type": "table"
           }
          ]
         },
         "layout": {
          "annotationdefaults": {
           "arrowcolor": "#2a3f5f",
           "arrowhead": 0,
           "arrowwidth": 1
          },
          "autotypenumbers": "strict",
          "coloraxis": {
           "colorbar": {
            "outlinewidth": 0,
            "ticks": ""
           }
          },
          "colorscale": {
           "diverging": [
            [
             0,
             "#8e0152"
            ],
            [
             0.1,
             "#c51b7d"
            ],
            [
             0.2,
             "#de77ae"
            ],
            [
             0.3,
             "#f1b6da"
            ],
            [
             0.4,
             "#fde0ef"
            ],
            [
             0.5,
             "#f7f7f7"
            ],
            [
             0.6,
             "#e6f5d0"
            ],
            [
             0.7,
             "#b8e186"
            ],
            [
             0.8,
             "#7fbc41"
            ],
            [
             0.9,
             "#4d9221"
            ],
            [
             1,
             "#276419"
            ]
           ],
           "sequential": [
            [
             0,
             "#0d0887"
            ],
            [
             0.1111111111111111,
             "#46039f"
            ],
            [
             0.2222222222222222,
             "#7201a8"
            ],
            [
             0.3333333333333333,
             "#9c179e"
            ],
            [
             0.4444444444444444,
             "#bd3786"
            ],
            [
             0.5555555555555556,
             "#d8576b"
            ],
            [
             0.6666666666666666,
             "#ed7953"
            ],
            [
             0.7777777777777778,
             "#fb9f3a"
            ],
            [
             0.8888888888888888,
             "#fdca26"
            ],
            [
             1,
             "#f0f921"
            ]
           ],
           "sequentialminus": [
            [
             0,
             "#0d0887"
            ],
            [
             0.1111111111111111,
             "#46039f"
            ],
            [
             0.2222222222222222,
             "#7201a8"
            ],
            [
             0.3333333333333333,
             "#9c179e"
            ],
            [
             0.4444444444444444,
             "#bd3786"
            ],
            [
             0.5555555555555556,
             "#d8576b"
            ],
            [
             0.6666666666666666,
             "#ed7953"
            ],
            [
             0.7777777777777778,
             "#fb9f3a"
            ],
            [
             0.8888888888888888,
             "#fdca26"
            ],
            [
             1,
             "#f0f921"
            ]
           ]
          },
          "colorway": [
           "#636efa",
           "#EF553B",
           "#00cc96",
           "#ab63fa",
           "#FFA15A",
           "#19d3f3",
           "#FF6692",
           "#B6E880",
           "#FF97FF",
           "#FECB52"
          ],
          "font": {
           "color": "#2a3f5f"
          },
          "geo": {
           "bgcolor": "white",
           "lakecolor": "white",
           "landcolor": "#E5ECF6",
           "showlakes": true,
           "showland": true,
           "subunitcolor": "white"
          },
          "hoverlabel": {
           "align": "left"
          },
          "hovermode": "closest",
          "mapbox": {
           "style": "light"
          },
          "paper_bgcolor": "white",
          "plot_bgcolor": "#E5ECF6",
          "polar": {
           "angularaxis": {
            "gridcolor": "white",
            "linecolor": "white",
            "ticks": ""
           },
           "bgcolor": "#E5ECF6",
           "radialaxis": {
            "gridcolor": "white",
            "linecolor": "white",
            "ticks": ""
           }
          },
          "scene": {
           "xaxis": {
            "backgroundcolor": "#E5ECF6",
            "gridcolor": "white",
            "gridwidth": 2,
            "linecolor": "white",
            "showbackground": true,
            "ticks": "",
            "zerolinecolor": "white"
           },
           "yaxis": {
            "backgroundcolor": "#E5ECF6",
            "gridcolor": "white",
            "gridwidth": 2,
            "linecolor": "white",
            "showbackground": true,
            "ticks": "",
            "zerolinecolor": "white"
           },
           "zaxis": {
            "backgroundcolor": "#E5ECF6",
            "gridcolor": "white",
            "gridwidth": 2,
            "linecolor": "white",
            "showbackground": true,
            "ticks": "",
            "zerolinecolor": "white"
           }
          },
          "shapedefaults": {
           "line": {
            "color": "#2a3f5f"
           }
          },
          "ternary": {
           "aaxis": {
            "gridcolor": "white",
            "linecolor": "white",
            "ticks": ""
           },
           "baxis": {
            "gridcolor": "white",
            "linecolor": "white",
            "ticks": ""
           },
           "bgcolor": "#E5ECF6",
           "caxis": {
            "gridcolor": "white",
            "linecolor": "white",
            "ticks": ""
           }
          },
          "title": {
           "x": 0.05
          },
          "xaxis": {
           "automargin": true,
           "gridcolor": "white",
           "linecolor": "white",
           "ticks": "",
           "title": {
            "standoff": 15
           },
           "zerolinecolor": "white",
           "zerolinewidth": 2
          },
          "yaxis": {
           "automargin": true,
           "gridcolor": "white",
           "linecolor": "white",
           "ticks": "",
           "title": {
            "standoff": 15
           },
           "zerolinecolor": "white",
           "zerolinewidth": 2
          }
         }
        },
        "title": {
         "text": "Point Cloud: red metal shelving"
        }
       }
      }
     },
     "metadata": {},
     "output_type": "display_data"
    }
   ],
   "source": [
    "# Point Cloud Visualization\n",
    "def visualize_point_clouds(idx=0, max_objects=3):\n",
    "    example = dataset['train'][idx]\n",
    "    \n",
    "    print(f\"🔮 Point Cloud Analysis for Image {idx+1}\")\n",
    "    print(f\"Objects detected: {len(example['pointclouds'])}\")\n",
    "    \n",
    "    # Check if Open3D is available\n",
    "    try:\n",
    "        import open3d as o3d\n",
    "        \n",
    "        for i in range(min(max_objects, len(example['pointclouds']))):\n",
    "            pc_path = example['pointclouds'][i]\n",
    "            if os.path.exists(pc_path):\n",
    "                # Load point cloud\n",
    "                pcd = o3d.io.read_point_cloud(pc_path)\n",
    "                points = np.asarray(pcd.points)\n",
    "                \n",
    "                print(f\"\\nObject {i+1}: {example['captions'][i]}\")\n",
    "                print(f\"Point cloud: {pc_path}\")\n",
    "                print(f\"Points: {len(points)}\")\n",
    "                \n",
    "                if len(points) > 0:\n",
    "                    # Basic statistics\n",
    "                    print(f\"X range: {points[:, 0].min():.2f} to {points[:, 0].max():.2f}\")\n",
    "                    print(f\"Y range: {points[:, 1].min():.2f} to {points[:, 1].max():.2f}\")\n",
    "                    print(f\"Z range: {points[:, 2].min():.2f} to {points[:, 2].max():.2f}\")\n",
    "                    \n",
    "                    # 3D scatter plot\n",
    "                    fig = go.Figure(data=[go.Scatter3d(\n",
    "                        x=points[:, 0],\n",
    "                        y=points[:, 1], \n",
    "                        z=points[:, 2],\n",
    "                        mode='markers',\n",
    "                        marker=dict(size=2, opacity=0.6),\n",
    "                        name=f\"Object {i+1}\"\n",
    "                    )])\n",
    "                    \n",
    "                    fig.update_layout(\n",
    "                        title=f\"Point Cloud: {example['captions'][i]}\",\n",
    "                        scene=dict(\n",
    "                            xaxis_title=\"X (meters)\",\n",
    "                            yaxis_title=\"Y (meters)\",\n",
    "                            zaxis_title=\"Z (meters)\"\n",
    "                        ),\n",
    "                        height=500\n",
    "                    )\n",
    "                    fig.show()\n",
    "            else:\n",
    "                print(f\"Point cloud file not found: {pc_path}\")\n",
    "                \n",
    "    except ImportError:\n",
    "        print(\"❌ Open3D not available. Install with: pip install open3d\")\n",
    "        \n",
    "        # Alternative: show point cloud file information\n",
    "        for i in range(min(max_objects, len(example['pointclouds']))):\n",
    "            pc_path = example['pointclouds'][i]\n",
    "            if os.path.exists(pc_path):\n",
    "                file_size = os.path.getsize(pc_path)\n",
    "                print(f\"Object {i+1}: {example['captions'][i]}\")\n",
    "                print(f\"Point cloud file: {os.path.basename(pc_path)} ({file_size:,} bytes)\")\n",
    "\n",
    "# Visualize point clouds for first image\n",
    "visualize_point_clouds(0)"
   ]
  },
  {
   "cell_type": "code",
   "execution_count": 5,
   "id": "7ce3ccdf",
   "metadata": {},
   "outputs": [
    {
     "name": "stdout",
     "output_type": "stream",
     "text": [
      "🧠 Spatial Reasoning Pattern Analysis\n",
      "📊 Question Type Distribution:\n",
      "• Distance questions: 11 (44.0%)\n",
      "• Size comparison questions: 3 (12.0%)\n",
      "• Height questions: 4 (16.0%)\n",
      "• General comparisons: 4 (16.0%)\n",
      "\n",
      "📏 Distance Measurements Found:\n",
      "• Total measurements: 16\n",
      "• centimeters: 6 measurements, range: 17.8-89.3\n",
      "• feet: 3 measurements, range: 5.0-27.0\n",
      "• inches: 5 measurements, range: 14.1-36.0\n",
      "• meters: 2 measurements, range: 1.0-1.0\n",
      "\n",
      "🎯 Sample Spatial Reasoning Examples:\n",
      "\n",
      "Q: Can you confirm if the man in black and orange safety vest is thinner than the man in orange safety vest?\n",
      "A: Incorrect, the man in black and orange safety vest's width is not less than the man in orange safety vest's.\n",
      "\n",
      "Q: Could you measure the distance between the red metal shelving and the man in yellow safety vest?\n",
      "A: They are 39.0 centimeters apart.\n",
      "\n",
      "Q: Does the man in yellow safety vest have a larger size compared to the man in orange safety vest?\n",
      "A: Correct, the man in yellow safety vest is larger in size than the man in orange safety vest.\n",
      "📊 Question Type Distribution:\n",
      "• Distance questions: 11 (44.0%)\n",
      "• Size comparison questions: 3 (12.0%)\n",
      "• Height questions: 4 (16.0%)\n",
      "• General comparisons: 4 (16.0%)\n",
      "\n",
      "📏 Distance Measurements Found:\n",
      "• Total measurements: 16\n",
      "• centimeters: 6 measurements, range: 17.8-89.3\n",
      "• feet: 3 measurements, range: 5.0-27.0\n",
      "• inches: 5 measurements, range: 14.1-36.0\n",
      "• meters: 2 measurements, range: 1.0-1.0\n",
      "\n",
      "🎯 Sample Spatial Reasoning Examples:\n",
      "\n",
      "Q: Can you confirm if the man in black and orange safety vest is thinner than the man in orange safety vest?\n",
      "A: Incorrect, the man in black and orange safety vest's width is not less than the man in orange safety vest's.\n",
      "\n",
      "Q: Could you measure the distance between the red metal shelving and the man in yellow safety vest?\n",
      "A: They are 39.0 centimeters apart.\n",
      "\n",
      "Q: Does the man in yellow safety vest have a larger size compared to the man in orange safety vest?\n",
      "A: Correct, the man in yellow safety vest is larger in size than the man in orange safety vest.\n"
     ]
    }
   ],
   "source": [
    "# Analyze Spatial Reasoning Patterns\n",
    "def analyze_spatial_patterns():\n",
    "    print(\"🧠 Spatial Reasoning Pattern Analysis\")\n",
    "    \n",
    "    # Extract all Q&A pairs\n",
    "    all_questions = []\n",
    "    all_answers = []\n",
    "    \n",
    "    for example in dataset['train']:\n",
    "        messages = example['messages']\n",
    "        for i in range(0, len(messages), 2):\n",
    "            if i + 1 < len(messages):\n",
    "                user_msg = messages[i]\n",
    "                assistant_msg = messages[i + 1]\n",
    "                \n",
    "                # Extract question text\n",
    "                question = \"\"\n",
    "                if isinstance(user_msg['content'], list):\n",
    "                    for content in user_msg['content']:\n",
    "                        if content['type'] == 'text':\n",
    "                            question = content['text']\n",
    "                            break\n",
    "                else:\n",
    "                    question = user_msg['content']\n",
    "                \n",
    "                # Extract answer text\n",
    "                answer = assistant_msg['content']\n",
    "                if isinstance(answer, list):\n",
    "                    answer = answer[0]['text']\n",
    "                \n",
    "                all_questions.append(question)\n",
    "                all_answers.append(answer)\n",
    "    \n",
    "    # Analyze question types\n",
    "    distance_questions = [q for q in all_questions if 'distance' in q.lower() or 'far' in q.lower()]\n",
    "    size_questions = [q for q in all_questions if 'size' in q.lower() or 'bigger' in q.lower() or 'larger' in q.lower()]\n",
    "    height_questions = [q for q in all_questions if 'tall' in q.lower() or 'height' in q.lower()]\n",
    "    comparison_questions = [q for q in all_questions if 'compared to' in q.lower() or 'than' in q.lower()]\n",
    "    \n",
    "    # Extract distance measurements from answers\n",
    "    import re\n",
    "    distance_pattern = r'(\\d+\\.?\\d*)\\s*(centimeters?|cm|meters?|m|inches?|in|feet|ft)'\n",
    "    distances = []\n",
    "    \n",
    "    for answer in all_answers:\n",
    "        matches = re.findall(distance_pattern, answer.lower())\n",
    "        for match in matches:\n",
    "            value, unit = match\n",
    "            distances.append((float(value), unit))\n",
    "    \n",
    "    print(f\"📊 Question Type Distribution:\")\n",
    "    print(f\"• Distance questions: {len(distance_questions)} ({len(distance_questions)/len(all_questions)*100:.1f}%)\")\n",
    "    print(f\"• Size comparison questions: {len(size_questions)} ({len(size_questions)/len(all_questions)*100:.1f}%)\")\n",
    "    print(f\"• Height questions: {len(height_questions)} ({len(height_questions)/len(all_questions)*100:.1f}%)\")\n",
    "    print(f\"• General comparisons: {len(comparison_questions)} ({len(comparison_questions)/len(all_questions)*100:.1f}%)\")\n",
    "    \n",
    "    print(f\"\\n📏 Distance Measurements Found:\")\n",
    "    print(f\"• Total measurements: {len(distances)}\")\n",
    "    \n",
    "    if distances:\n",
    "        # Group by unit\n",
    "        units = {}\n",
    "        for value, unit in distances:\n",
    "            if unit not in units:\n",
    "                units[unit] = []\n",
    "            units[unit].append(value)\n",
    "        \n",
    "        for unit, values in units.items():\n",
    "            print(f\"• {unit}: {len(values)} measurements, range: {min(values):.1f}-{max(values):.1f}\")\n",
    "    \n",
    "    # Sample questions and answers\n",
    "    print(f\"\\n🎯 Sample Spatial Reasoning Examples:\")\n",
    "    for i in range(min(3, len(all_questions))):\n",
    "        print(f\"\\nQ: {all_questions[i]}\")\n",
    "        print(f\"A: {all_answers[i]}\")\n",
    "\n",
    "analyze_spatial_patterns()"
   ]
  },
  {
   "cell_type": "markdown",
   "id": "a1f1952a",
   "metadata": {},
   "source": [
    "## 3. 📚 Dataset Expansion Workflow\n",
    "\n",
    "Scale your VQASynth pipeline to process more images and different domains."
   ]
  },
  {
   "cell_type": "code",
   "execution_count": null,
   "id": "1e3b3b67",
   "metadata": {},
   "outputs": [],
   "source": [
    "# Configuration Templates for Dataset Expansion\n",
    "def show_config_templates():\n",
    "    print(\"⚙️ Configuration Templates for Different Domains\\n\")\n",
    "    \n",
    "    # Template configurations\n",
    "    templates = {\n",
    "        \"robotics\": {\n",
    "            \"dataset_name\": \"robot-scenes\",\n",
    "            \"include_tags\": \"robot,warehouse,factory,industrial\",\n",
    "            \"exclude_tags\": \"person,face\",\n",
    "            \"target_repo_name\": \"your-username/robot-spatial-vqa\",\n",
    "            \"max_images\": 100\n",
    "        },\n",
    "        \"autonomous_driving\": {\n",
    "            \"dataset_name\": \"driving-scenes\", \n",
    "            \"include_tags\": \"street,car,traffic,road,outdoor\",\n",
    "            \"exclude_tags\": \"indoor,portrait\",\n",
    "            \"target_repo_name\": \"your-username/driving-spatial-vqa\",\n",
    "            \"max_images\": 200\n",
    "        },\n",
    "        \"indoor_navigation\": {\n",
    "            \"dataset_name\": \"indoor-scenes\",\n",
    "            \"include_tags\": \"indoor,room,furniture,kitchen,office\",\n",
    "            \"exclude_tags\": \"outdoor,landscape\",\n",
    "            \"target_repo_name\": \"your-username/indoor-spatial-vqa\", \n",
    "            \"max_images\": 150\n",
    "        }\n",
    "    }\n",
    "    \n",
    "    for domain, config in templates.items():\n",
    "        print(f\"🎯 {domain.upper()} CONFIGURATION:\")\n",
    "        yaml_config = f\"\"\"\n",
    "# VQASynth Config for {domain}\n",
    "dataset:\n",
    "  name: \"{config['dataset_name']}\"\n",
    "  split: \"train\"\n",
    "  max_images: {config['max_images']}\n",
    "\n",
    "filtering:\n",
    "  include_tags: \"{config['include_tags']}\"\n",
    "  exclude_tags: \"{config['exclude_tags']}\"\n",
    "\n",
    "output:\n",
    "  target_repo_name: \"{config['target_repo_name']}\"\n",
    "  local_dir: \"./output_{domain}\"\n",
    "\n",
    "processing:\n",
    "  batch_size: 4\n",
    "  num_workers: 2\n",
    "\"\"\"\n",
    "        print(yaml_config)\n",
    "        print(\"-\" * 50)\n",
    "\n",
    "show_config_templates()"
   ]
  },
  {
   "cell_type": "code",
   "execution_count": null,
   "id": "13008563",
   "metadata": {},
   "outputs": [],
   "source": [
    "# Programmatic Dataset Expansion\n",
    "def expand_dataset_programmatically():\n",
    "    \"\"\"Example: Expand dataset using the VQASynth Python API\"\"\"\n",
    "    \n",
    "    print(\"🔧 Programmatic Dataset Creation Example\")\n",
    "    \n",
    "    # Template code for expanding your dataset\n",
    "    expansion_code = '''\n",
    "from vqasynth.datasets import Dataloader\n",
    "from vqasynth.embeddings import EmbeddingGenerator, TagFilter\n",
    "from vqasynth.pipeline import SpatialVQAPipeline\n",
    "\n",
    "# Initialize components\n",
    "cache_dir = \"./cache\"\n",
    "dataloader = Dataloader(cache_dir)\n",
    "embedding_generator = EmbeddingGenerator()\n",
    "tag_filter = TagFilter()\n",
    "pipeline = SpatialVQAPipeline()\n",
    "\n",
    "# Configuration for new domain\n",
    "new_config = {\n",
    "    \"dataset_name\": \"indoor-scenes\",  # HuggingFace dataset\n",
    "    \"include_tags\": [\"indoor\", \"furniture\", \"room\"],\n",
    "    \"exclude_tags\": [\"outdoor\", \"landscape\"],\n",
    "    \"max_images\": 50,\n",
    "    \"target_repo\": \"your-username/indoor-spatial-vqa\"\n",
    "}\n",
    "\n",
    "# Load and filter dataset\n",
    "print(f\"Loading dataset: {new_config['dataset_name']}\")\n",
    "dataset = dataloader.load_dataset(new_config['dataset_name'])\n",
    "\n",
    "# Apply embedding extraction\n",
    "dataset = dataset.map(\n",
    "    lambda example: embedding_generator.apply_transform(example, images=example['image'])\n",
    ")\n",
    "\n",
    "# Apply tag filtering\n",
    "dataset = dataset.map(\n",
    "    lambda example: tag_filter.apply_transform(\n",
    "        example, \n",
    "        new_config['include_tags'] + new_config['exclude_tags']\n",
    "    )\n",
    ")\n",
    "\n",
    "# Filter by tags\n",
    "filtered_dataset = dataset.filter(\n",
    "    lambda example: tag_filter.filter_by_tag(\n",
    "        example['tag'], \n",
    "        new_config['include_tags'], \n",
    "        new_config['exclude_tags']\n",
    "    )\n",
    ")\n",
    "\n",
    "# Run spatial VQA pipeline\n",
    "final_dataset = pipeline.process_dataset(\n",
    "    filtered_dataset.select(range(new_config['max_images']))\n",
    ")\n",
    "\n",
    "# Save and upload\n",
    "dataloader.save_to_disk(final_dataset, f\"./output/{new_config['dataset_name']}\")\n",
    "dataloader.push_to_hub(final_dataset, new_config['target_repo'])\n",
    "\n",
    "print(f\"✅ Created dataset with {len(final_dataset)} spatial VQA examples\")\n",
    "'''\n",
    "    \n",
    "    print(\"💻 Python API Usage:\")\n",
    "    print(expansion_code)\n",
    "\n",
    "expand_dataset_programmatically()"
   ]
  },
  {
   "cell_type": "markdown",
   "id": "d05ad7df",
   "metadata": {},
   "source": [
    "## 4. 🧠 Model Training Pipeline Setup\n",
    "\n",
    "Set up training infrastructure for spatial VLMs using your VQASynth dataset."
   ]
  },
  {
   "cell_type": "code",
   "execution_count": null,
   "id": "337e2d1f",
   "metadata": {},
   "outputs": [],
   "source": [
    "# Training Setup for Different VLM Architectures\n",
    "def show_training_templates():\n",
    "    print(\"🎓 Training Templates for Spatial VLMs\\n\")\n",
    "    \n",
    "    # Qwen2.5-VL Training Setup\n",
    "    qwen_setup = '''\n",
    "# Qwen2.5-VL Spatial Training Setup\n",
    "from transformers import Qwen2VLForConditionalGeneration, AutoTokenizer, AutoProcessor\n",
    "from transformers import TrainingArguments, Trainer\n",
    "from datasets import Dataset\n",
    "import torch\n",
    "\n",
    "# Model setup\n",
    "model_name = \"Qwen/Qwen2.5-VL-3B-Instruct\"\n",
    "model = Qwen2VLForConditionalGeneration.from_pretrained(\n",
    "    model_name, \n",
    "    torch_dtype=torch.bfloat16,\n",
    "    device_map=\"auto\"\n",
    ")\n",
    "processor = AutoProcessor.from_pretrained(model_name)\n",
    "\n",
    "# LoRA configuration for efficient fine-tuning\n",
    "from peft import LoraConfig, get_peft_model\n",
    "\n",
    "lora_config = LoraConfig(\n",
    "    r=16,\n",
    "    lora_alpha=32, \n",
    "    target_modules=[\"q_proj\", \"v_proj\", \"k_proj\", \"o_proj\"],\n",
    "    lora_dropout=0.1,\n",
    "    bias=\"none\",\n",
    "    task_type=\"CAUSAL_LM\"\n",
    ")\n",
    "\n",
    "model = get_peft_model(model, lora_config)\n",
    "model.print_trainable_parameters()\n",
    "\n",
    "# Training arguments\n",
    "training_args = TrainingArguments(\n",
    "    output_dir=\"./spatial-qwen2.5-vl\",\n",
    "    per_device_train_batch_size=2,\n",
    "    per_device_eval_batch_size=2,\n",
    "    gradient_accumulation_steps=4,\n",
    "    num_train_epochs=3,\n",
    "    learning_rate=5e-5,\n",
    "    warmup_steps=100,\n",
    "    logging_steps=10,\n",
    "    save_steps=500,\n",
    "    evaluation_strategy=\"steps\",\n",
    "    eval_steps=500,\n",
    "    fp16=True,\n",
    "    remove_unused_columns=False\n",
    ")\n",
    "'''\n",
    "    \n",
    "    # LLaVA Training Setup\n",
    "    llava_setup = '''\n",
    "# LLaVA Training Setup\n",
    "from llava.model import LlavaLlamaForCausalLM\n",
    "from llava.train.train import train\n",
    "\n",
    "# Model configuration\n",
    "model_args = {\n",
    "    \"model_name_or_path\": \"liuhaotian/llava-v1.5-7b\",\n",
    "    \"version\": \"v1\",\n",
    "    \"freeze_backbone\": False,\n",
    "    \"tune_mm_mlp_adapter\": True,\n",
    "    \"vision_tower\": \"openai/clip-vit-large-patch14-336\",\n",
    "    \"mm_vision_select_layer\": -2,\n",
    "    \"mm_use_im_start_end\": False,\n",
    "    \"mm_use_im_patch_token\": False,\n",
    "    \"image_aspect_ratio\": \"pad\"\n",
    "}\n",
    "\n",
    "# Data configuration for spatial VQA\n",
    "data_args = {\n",
    "    \"data_path\": \"/path/to/your/vqasynth/dataset.json\",\n",
    "    \"lazy_preprocess\": True,\n",
    "    \"is_multimodal\": True,\n",
    "    \"image_folder\": \"/path/to/images\",\n",
    "    \"image_aspect_ratio\": \"pad\"\n",
    "}\n",
    "\n",
    "# Training configuration\n",
    "training_args = {\n",
    "    \"output_dir\": \"./spatial-llava-7b\",\n",
    "    \"cache_dir\": \"./cache\",\n",
    "    \"optim\": \"adamw_torch\",\n",
    "    \"remove_unused_columns\": False,\n",
    "    \"freeze_mm_mlp_adapter\": False,\n",
    "    \"mmp_has_square_pad\": True,\n",
    "    \"fp16\": True,\n",
    "    \"gradient_checkpointing\": True,\n",
    "    \"per_device_train_batch_size\": 16,\n",
    "    \"per_device_eval_batch_size\": 4,\n",
    "    \"gradient_accumulation_steps\": 1,\n",
    "    \"evaluation_strategy\": \"no\",\n",
    "    \"save_strategy\": \"steps\",\n",
    "    \"save_steps\": 2400,\n",
    "    \"save_total_limit\": 1,\n",
    "    \"learning_rate\": 2e-3,\n",
    "    \"weight_decay\": 0.,\n",
    "    \"warmup_ratio\": 0.03,\n",
    "    \"lr_scheduler_type\": \"cosine\",\n",
    "    \"logging_steps\": 1,\n",
    "    \"tf32\": True,\n",
    "    \"model_max_length\": 2048,\n",
    "    \"gradient_checkpointing\": True,\n",
    "    \"dataloader_num_workers\": 4,\n",
    "    \"lazy_preprocess\": True,\n",
    "    \"report_to\": \"wandb\"\n",
    "}\n",
    "'''\n",
    "    \n",
    "    print(\"🔮 QWEN2.5-VL TRAINING SETUP:\")\n",
    "    print(qwen_setup)\n",
    "    print(\"\\n\" + \"=\"*60)\n",
    "    \n",
    "    print(\"\\n🦙 LLAVA TRAINING SETUP:\")\n",
    "    print(llava_setup)\n",
    "\n",
    "show_training_templates()"
   ]
  },
  {
   "cell_type": "markdown",
   "id": "041ad381",
   "metadata": {},
   "source": [
    "## 5. 🎮 Interactive Demo Creation\n",
    "\n",
    "Build Gradio applications for testing your spatial reasoning models."
   ]
  },
  {
   "cell_type": "code",
   "execution_count": null,
   "id": "75a068b4",
   "metadata": {},
   "outputs": [],
   "source": [
    "# Gradio Demo Template\n",
    "def create_gradio_demo_template():\n",
    "    \"\"\"Template for creating a Gradio demo app\"\"\"\n",
    "    \n",
    "    demo_code = '''\n",
    "import gradio as gr\n",
    "import torch\n",
    "from transformers import AutoProcessor, Qwen2VLForConditionalGeneration\n",
    "from PIL import Image\n",
    "import numpy as np\n",
    "\n",
    "# Load your trained spatial VLM\n",
    "class SpatialVLMDemo:\n",
    "    def __init__(self, model_path):\n",
    "        self.model = Qwen2VLForConditionalGeneration.from_pretrained(\n",
    "            model_path, \n",
    "            torch_dtype=torch.bfloat16,\n",
    "            device_map=\"auto\"\n",
    "        )\n",
    "        self.processor = AutoProcessor.from_pretrained(model_path)\n",
    "        \n",
    "    def answer_spatial_question(self, image, question):\n",
    "        \"\"\"Answer spatial reasoning questions about the image\"\"\"\n",
    "        \n",
    "        # Prepare input\n",
    "        messages = [\n",
    "            {\n",
    "                \"role\": \"user\",\n",
    "                \"content\": [\n",
    "                    {\"type\": \"image\", \"image\": image},\n",
    "                    {\"type\": \"text\", \"text\": question}\n",
    "                ]\n",
    "            }\n",
    "        ]\n",
    "        \n",
    "        # Process and generate\n",
    "        text = self.processor.apply_chat_template(\n",
    "            messages, tokenize=False, add_generation_prompt=True\n",
    "        )\n",
    "        \n",
    "        image_inputs, video_inputs = self.processor.process_vision_info(messages)\n",
    "        inputs = self.processor(\n",
    "            text=[text], \n",
    "            images=image_inputs, \n",
    "            videos=video_inputs,\n",
    "            padding=True,\n",
    "            return_tensors=\"pt\"\n",
    "        )\n",
    "        \n",
    "        # Generate response\n",
    "        with torch.no_grad():\n",
    "            generated_ids = self.model.generate(\n",
    "                **inputs,\n",
    "                max_new_tokens=256,\n",
    "                temperature=0.1,\n",
    "                do_sample=False\n",
    "            )\n",
    "            \n",
    "        generated_ids_trimmed = [\n",
    "            out_ids[len(in_ids):] for in_ids, out_ids \n",
    "            in zip(inputs.input_ids, generated_ids)\n",
    "        ]\n",
    "        \n",
    "        response = self.processor.batch_decode(\n",
    "            generated_ids_trimmed, \n",
    "            skip_special_tokens=True, \n",
    "            clean_up_tokenization_spaces=False\n",
    "        )[0]\n",
    "        \n",
    "        return response\n",
    "\n",
    "# Initialize demo\n",
    "demo_model = SpatialVLMDemo(\"your-username/spatial-qwen2.5-vl\")\n",
    "\n",
    "def spatial_qa_interface(image, question):\n",
    "    \"\"\"Gradio interface function\"\"\"\n",
    "    if image is None or question.strip() == \"\":\n",
    "        return \"Please provide both an image and a question.\"\n",
    "    \n",
    "    try:\n",
    "        answer = demo_model.answer_spatial_question(image, question)\n",
    "        return answer\n",
    "    except Exception as e:\n",
    "        return f\"Error: {str(e)}\"\n",
    "\n",
    "# Sample questions for quick testing\n",
    "sample_questions = [\n",
    "    \"How far apart are the two people in this image?\",\n",
    "    \"Which object is taller, the chair or the table?\", \n",
    "    \"What is the distance between the car and the building?\",\n",
    "    \"Is the person closer to the left or right side of the image?\",\n",
    "    \"How many meters is the tree from the house?\"\n",
    "]\n",
    "\n",
    "# Create Gradio interface\n",
    "with gr.Blocks(title=\"Spatial Reasoning VLM Demo\") as demo:\n",
    "    gr.Markdown(\"# 🎯 Spatial Reasoning VLM Demo\")\n",
    "    gr.Markdown(\"Upload an image and ask spatial questions about objects in it.\")\n",
    "    \n",
    "    with gr.Row():\n",
    "        with gr.Column():\n",
    "            image_input = gr.Image(type=\"pil\", label=\"Upload Image\")\n",
    "            question_input = gr.Textbox(\n",
    "                placeholder=\"Ask a spatial question...\",\n",
    "                label=\"Spatial Question\",\n",
    "                lines=2\n",
    "            )\n",
    "            \n",
    "            # Quick question buttons\n",
    "            gr.Markdown(\"**Quick Questions:**\")\n",
    "            for i, sample_q in enumerate(sample_questions):\n",
    "                gr.Button(sample_q).click(\n",
    "                    lambda q=sample_q: q, \n",
    "                    outputs=question_input\n",
    "                )\n",
    "            \n",
    "            submit_btn = gr.Button(\"Ask Question\", variant=\"primary\")\n",
    "            \n",
    "        with gr.Column():\n",
    "            output = gr.Textbook(\n",
    "                label=\"Spatial Reasoning Answer\",\n",
    "                lines=5\n",
    "            )\n",
    "            \n",
    "    submit_btn.click(\n",
    "        fn=spatial_qa_interface,\n",
    "        inputs=[image_input, question_input],\n",
    "        outputs=output\n",
    "    )\n",
    "    \n",
    "    # Examples\n",
    "    gr.Examples(\n",
    "        examples=[\n",
    "            [\"example_image1.jpg\", \"How far is the red car from the blue building?\"],\n",
    "            [\"example_image2.jpg\", \"Which person is taller?\"],\n",
    "            [\"example_image3.jpg\", \"What is the distance between the two chairs?\"]\n",
    "        ],\n",
    "        inputs=[image_input, question_input]\n",
    "    )\n",
    "\n",
    "# Launch demo\n",
    "demo.launch(share=True, debug=True)\n",
    "'''\n",
    "    \n",
    "    print(\"🎮 Gradio Demo Template:\")\n",
    "    print(demo_code)\n",
    "    \n",
    "    print(\"\\n📝 To use this template:\")\n",
    "    print(\"1. Replace 'your-username/spatial-qwen2.5-vl' with your model path\")\n",
    "    print(\"2. Add example images to test with\")\n",
    "    print(\"3. Customize the interface styling and questions\")\n",
    "    print(\"4. Run: python gradio_demo.py\")\n",
    "\n",
    "create_gradio_demo_template()"
   ]
  },
  {
   "cell_type": "markdown",
   "id": "c7f2c6ed",
   "metadata": {},
   "source": [
    "## 6. 📤 Dataset Publishing and Sharing\n",
    "\n",
    "Publish your datasets and models to Hugging Face Hub for the community."
   ]
  },
  {
   "cell_type": "code",
   "execution_count": null,
   "id": "21388c66",
   "metadata": {},
   "outputs": [],
   "source": [
    "# Publishing and Documentation Templates\n",
    "def create_publishing_templates():\n",
    "    \"\"\"Templates for publishing datasets and models\"\"\"\n",
    "    \n",
    "    print(\"📤 Publishing Your VQASynth Work\\n\")\n",
    "    \n",
    "    # Dataset Card Template\n",
    "    dataset_card = '''\n",
    "---\n",
    "license: apache-2.0\n",
    "task_categories:\n",
    "- visual-question-answering\n",
    "- image-to-text\n",
    "language:\n",
    "- en\n",
    "tags:\n",
    "- spatial-reasoning\n",
    "- vqa\n",
    "- robotics\n",
    "- computer-vision\n",
    "- multimodal\n",
    "size_categories:\n",
    "- 1K<n<10K\n",
    "---\n",
    "\n",
    "# Spatial VQA Dataset - {DOMAIN}\n",
    "\n",
    "## Dataset Description\n",
    "\n",
    "This dataset contains spatial reasoning VQA pairs generated using the VQASynth pipeline. \n",
    "It focuses on {DOMAIN} scenarios and includes:\n",
    "\n",
    "- **{N} images** with comprehensive spatial annotations\n",
    "- **{M} question-answer pairs** covering distance, size, and spatial relationships\n",
    "- **Point clouds** for 3D spatial understanding\n",
    "- **Depth maps** and camera parameters\n",
    "\n",
    "## Dataset Structure\n",
    "\n",
    "```\n",
    "{\n",
    "  \"image\": PIL.Image,\n",
    "  \"messages\": [\n",
    "    {\n",
    "      \"role\": \"user\", \n",
    "      \"content\": [{\"type\": \"image\"}, {\"type\": \"text\", \"text\": \"How far is...?\"}]\n",
    "    },\n",
    "    {\n",
    "      \"role\": \"assistant\",\n",
    "      \"content\": \"The objects are 2.3 meters apart.\"\n",
    "    }\n",
    "  ],\n",
    "  \"captions\": [\"object descriptions...\"],\n",
    "  \"pointclouds\": [\"path/to/pointcloud.pcd\"],\n",
    "  \"depth_map\": [[depth_values...]],\n",
    "  \"focallength\": 425.4\n",
    "}\n",
    "```\n",
    "\n",
    "## Usage\n",
    "\n",
    "```python\n",
    "from datasets import load_dataset\n",
    "dataset = load_dataset(\"your-username/spatial-vqa-{domain}\")\n",
    "\n",
    "# Training example\n",
    "for example in dataset['train']:\n",
    "    image = example['image']\n",
    "    conversations = example['messages']\n",
    "    # Your training code here\n",
    "```\n",
    "\n",
    "## Citation\n",
    "\n",
    "If you use this dataset, please cite:\n",
    "\n",
    "```bibtex\n",
    "@dataset{spatial_vqa_{domain},\n",
    "  title={Spatial VQA Dataset for {Domain}},\n",
    "  author={Your Name},\n",
    "  year={2024},\n",
    "  publisher={Hugging Face},\n",
    "  url={https://huggingface.co/datasets/your-username/spatial-vqa-{domain}}\n",
    "}\n",
    "```\n",
    "\n",
    "## Created with VQASynth\n",
    "\n",
    "This dataset was generated using [VQASynth](https://github.com/remyxai/VQASynth), \n",
    "an open-source pipeline for creating spatial reasoning VQA datasets.\n",
    "'''\n",
    "\n",
    "    # Model Card Template  \n",
    "    model_card = '''\n",
    "---\n",
    "license: apache-2.0\n",
    "base_model: Qwen/Qwen2.5-VL-3B-Instruct\n",
    "tags:\n",
    "- spatial-reasoning\n",
    "- vqa\n",
    "- vision-language-model\n",
    "- fine-tuned\n",
    "library_name: transformers\n",
    "---\n",
    "\n",
    "# Spatial Reasoning VLM - {DOMAIN}\n",
    "\n",
    "## Model Description\n",
    "\n",
    "This model is a fine-tuned version of Qwen2.5-VL-3B-Instruct, enhanced for spatial reasoning \n",
    "in {DOMAIN} scenarios using VQASynth-generated training data.\n",
    "\n",
    "## Capabilities\n",
    "\n",
    "- **Distance Estimation**: Accurate measurements between objects\n",
    "- **Size Comparison**: Relative size assessment of objects\n",
    "- **Spatial Relationships**: Understanding of positional relationships\n",
    "- **3D Scene Understanding**: Depth-aware spatial reasoning\n",
    "\n",
    "## Usage\n",
    "\n",
    "```python\n",
    "from transformers import Qwen2VLForConditionalGeneration, AutoProcessor\n",
    "import torch\n",
    "\n",
    "model = Qwen2VLForConditionalGeneration.from_pretrained(\n",
    "    \"your-username/spatial-qwen2.5-vl-{domain}\",\n",
    "    torch_dtype=torch.bfloat16,\n",
    "    device_map=\"auto\"\n",
    ")\n",
    "processor = AutoProcessor.from_pretrained(\"your-username/spatial-qwen2.5-vl-{domain}\")\n",
    "\n",
    "# Example usage\n",
    "messages = [\n",
    "    {\n",
    "        \"role\": \"user\", \n",
    "        \"content\": [\n",
    "            {\"type\": \"image\", \"image\": your_image},\n",
    "            {\"type\": \"text\", \"text\": \"How far is the red car from the building?\"}\n",
    "        ]\n",
    "    }\n",
    "]\n",
    "\n",
    "text = processor.apply_chat_template(messages, tokenize=False, add_generation_prompt=True)\n",
    "image_inputs, video_inputs = processor.process_vision_info(messages)\n",
    "inputs = processor(text=[text], images=image_inputs, padding=True, return_tensors=\"pt\")\n",
    "\n",
    "with torch.no_grad():\n",
    "    generated_ids = model.generate(**inputs, max_new_tokens=128)\n",
    "    \n",
    "response = processor.batch_decode(generated_ids, skip_special_tokens=True)[0]\n",
    "```\n",
    "\n",
    "## Training Details\n",
    "\n",
    "- **Base Model**: Qwen2.5-VL-3B-Instruct\n",
    "- **Training Data**: VQASynth spatial reasoning dataset ({N} examples)\n",
    "- **Fine-tuning Method**: LoRA (Low-Rank Adaptation)\n",
    "- **Training Duration**: {X} epochs on {GPU}\n",
    "- **Evaluation**: {METRICS}\n",
    "\n",
    "## Performance\n",
    "\n",
    "| Metric | Score |\n",
    "|--------|-------|\n",
    "| Distance Accuracy | {X}% |  \n",
    "| Size Comparison Accuracy | {Y}% |\n",
    "| Spatial Relationship F1 | {Z} |\n",
    "\n",
    "## Limitations\n",
    "\n",
    "- Performance may vary on domains not seen during training\n",
    "- Distance estimates are approximate and depend on image quality\n",
    "- Works best with clear, unoccluded objects\n",
    "\n",
    "## Citation\n",
    "\n",
    "```bibtex\n",
    "@model{spatial_vlm_{domain},\n",
    "  title={Spatial Reasoning VLM for {Domain}},\n",
    "  author={Your Name},\n",
    "  year={2024},\n",
    "  publisher={Hugging Face},\n",
    "  url={https://huggingface.co/your-username/spatial-qwen2.5-vl-{domain}}\n",
    "}\n",
    "```\n",
    "'''\n",
    "    \n",
    "    print(\"📋 DATASET CARD TEMPLATE:\")\n",
    "    print(dataset_card)\n",
    "    print(\"\\n\" + \"=\"*60)\n",
    "    \n",
    "    print(\"\\n🤖 MODEL CARD TEMPLATE:\")\n",
    "    print(model_card)\n",
    "    \n",
    "    # Publishing commands\n",
    "    print(\"\\n🚀 PUBLISHING COMMANDS:\")\n",
    "    publishing_commands = '''\n",
    "# Push dataset to Hub\n",
    "from datasets import load_from_disk\n",
    "from huggingface_hub import HfApi\n",
    "\n",
    "dataset = load_from_disk(\"./your_dataset\")\n",
    "dataset.push_to_hub(\"your-username/spatial-vqa-dataset\")\n",
    "\n",
    "# Push model to Hub  \n",
    "model.push_to_hub(\"your-username/spatial-vlm-model\")\n",
    "processor.push_to_hub(\"your-username/spatial-vlm-model\")\n",
    "\n",
    "# Create dataset/model repositories\n",
    "api = HfApi()\n",
    "api.create_repo(\"your-username/spatial-vqa-dataset\", repo_type=\"dataset\")\n",
    "api.create_repo(\"your-username/spatial-vlm-model\", repo_type=\"model\")\n",
    "'''\n",
    "    print(publishing_commands)\n",
    "\n",
    "create_publishing_templates()"
   ]
  },
  {
   "cell_type": "markdown",
   "id": "7299e21d",
   "metadata": {},
   "source": [
    "## 🎉 Congratulations!\n",
    "\n",
    "You've successfully created a spatial reasoning dataset with VQASynth! Here's what you've accomplished:\n",
    "\n",
    "### ✅ What You've Built\n",
    "- **Generated spatial VQA dataset** with 5 images and 25 Q&A pairs\n",
    "- **Point clouds and depth maps** for 3D scene understanding  \n",
    "- **Conversation format** ready for VLM training\n",
    "- **Accurate distance measurements** and spatial comparisons\n",
    "\n",
    "### 🚀 Next Steps\n",
    "1. **Expand**: Scale to more images using the config templates\n",
    "2. **Train**: Fine-tune VLMs with your spatial reasoning data\n",
    "3. **Demo**: Build Gradio apps to showcase capabilities\n",
    "4. **Share**: Publish to Hugging Face Hub for the community\n",
    "\n",
    "### 🔗 Resources\n",
    "- [VQASynth GitHub](https://github.com/remyxai/VQASynth)\n",
    "- [SpatialVLM Paper](https://spatial-vlm.github.io/)\n",
    "- [Hugging Face Spaces](https://huggingface.co/spaces/remyxai/SpaceThinker-Qwen2.5VL-3B)\n",
    "\n",
    "---\n",
    "\n",
    "**Happy spatial reasoning! 🎯🤖**"
   ]
  }
 ],
 "metadata": {
  "kernelspec": {
   "display_name": "spatialvlm",
   "language": "python",
   "name": "python3"
  },
  "language_info": {
   "codemirror_mode": {
    "name": "ipython",
    "version": 3
   },
   "file_extension": ".py",
   "mimetype": "text/x-python",
   "name": "python",
   "nbconvert_exporter": "python",
   "pygments_lexer": "ipython3",
   "version": "3.10.18"
  }
 },
 "nbformat": 4,
 "nbformat_minor": 5
}
